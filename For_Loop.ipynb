{
 "cells": [
  {
   "cell_type": "code",
   "execution_count": 3,
   "metadata": {
    "ExecuteTime": {
     "end_time": "2024-01-23T14:44:31.601039Z",
     "start_time": "2024-01-23T14:44:31.454577Z"
    }
   },
   "outputs": [
    {
     "name": "stdout",
     "output_type": "stream",
     "text": [
      "1\n",
      "2\n",
      "3\n",
      "4\n",
      "5\n"
     ]
    }
   ],
   "source": [
    "numbers = [1,2,3,4,5]\n",
    "for i in numbers:\n",
    "    print(i)"
   ]
  },
  {
   "cell_type": "code",
   "execution_count": 5,
   "metadata": {
    "ExecuteTime": {
     "end_time": "2024-01-23T14:45:50.394730Z",
     "start_time": "2024-01-23T14:45:50.378771Z"
    }
   },
   "outputs": [
    {
     "name": "stdout",
     "output_type": "stream",
     "text": [
      "1\n",
      "2\n",
      "3\n",
      "4\n",
      "5\n"
     ]
    }
   ],
   "source": [
    "for num in range(1,6):\n",
    "    print(num)"
   ]
  },
  {
   "cell_type": "code",
   "execution_count": 11,
   "metadata": {
    "ExecuteTime": {
     "end_time": "2024-01-23T16:02:53.091308Z",
     "start_time": "2024-01-23T16:02:53.076091Z"
    }
   },
   "outputs": [
    {
     "name": "stdout",
     "output_type": "stream",
     "text": [
      "1\n",
      "3\n",
      "5\n",
      "16\n",
      "I found a continue statment!\n",
      "9\n",
      "7\n"
     ]
    }
   ],
   "source": [
    "nums = [1,3,5,16,-7,9,7]\n",
    "for num in nums:\n",
    "    if num <0:\n",
    "        print('I found a continue statment!')\n",
    "        continue\n",
    "        print('I would be skipped!')\n",
    "    print(num)\n"
   ]
  },
  {
   "cell_type": "code",
   "execution_count": 14,
   "metadata": {
    "ExecuteTime": {
     "end_time": "2024-01-23T16:05:47.897860Z",
     "start_time": "2024-01-23T16:05:47.881683Z"
    }
   },
   "outputs": [
    {
     "name": "stdout",
     "output_type": "stream",
     "text": [
      "1\n",
      "3\n",
      "5\n",
      "16\n",
      "-7\n",
      "9\n",
      "7\n",
      "Done!\n"
     ]
    }
   ],
   "source": [
    "nums = [1, 3, 5, 16, -7, 9, 7]\n",
    "for num in nums:\n",
    "    print(num)\n",
    "else:\n",
    "    print(\"Done!\")"
   ]
  },
  {
   "cell_type": "code",
   "execution_count": 19,
   "metadata": {
    "ExecuteTime": {
     "end_time": "2024-01-23T16:21:54.985962Z",
     "start_time": "2024-01-23T16:21:54.973087Z"
    }
   },
   "outputs": [
    {
     "name": "stdout",
     "output_type": "stream",
     "text": [
      "Done!\n",
      "Done!\n",
      "Done!\n",
      "Done!\n"
     ]
    }
   ],
   "source": [
    "nums = [1, 3, 5, 16, -7, 9, 7]\n",
    "for num in nums:\n",
    "    if num < 0:\n",
    "        break\n",
    "    else:\n",
    "        print(\"Done!\")"
   ]
  },
  {
   "cell_type": "code",
   "execution_count": 21,
   "metadata": {
    "ExecuteTime": {
     "end_time": "2024-01-23T16:22:30.998029Z",
     "start_time": "2024-01-23T16:22:30.853144Z"
    }
   },
   "outputs": [
    {
     "name": "stdout",
     "output_type": "stream",
     "text": [
      "7\n",
      "9\n",
      "-7\n",
      "16\n",
      "5\n",
      "3\n",
      "1\n"
     ]
    }
   ],
   "source": [
    "nums = [1, 3, 5, 16, -7, 9, 7]\n",
    "for num in reversed(nums):\n",
    "    print(num)"
   ]
  },
  {
   "cell_type": "code",
   "execution_count": 29,
   "metadata": {
    "ExecuteTime": {
     "end_time": "2024-01-23T19:12:54.144356Z",
     "start_time": "2024-01-23T19:12:54.114626Z"
    }
   },
   "outputs": [
    {
     "name": "stdout",
     "output_type": "stream",
     "text": [
      "1\n",
      "2\n",
      "3\n",
      "4\n",
      "5\n",
      "6\n",
      "7\n",
      "8\n",
      "9\n",
      "10\n"
     ]
    }
   ],
   "source": [
    "#1. Print first 10 natural numbers using for loop.\n",
    "n=11\n",
    "\n",
    "for i in range(1,n):\n",
    "    print(i)"
   ]
  },
  {
   "cell_type": "code",
   "execution_count": 33,
   "metadata": {
    "ExecuteTime": {
     "end_time": "2024-01-23T21:08:22.399069Z",
     "start_time": "2024-01-23T21:08:18.092753Z"
    }
   },
   "outputs": [
    {
     "name": "stdout",
     "output_type": "stream",
     "text": [
      "Enter the number21\n",
      "2 4 6 8 10 12 14 16 18 20 "
     ]
    }
   ],
   "source": [
    "#2. Python program to print all the even numbers within the given range.\n",
    "n = int(input('Enter the number'))\n",
    "for i in range(1,n):\n",
    "    if i%2==0:\n",
    "        print(i,end=' ')   \n"
   ]
  },
  {
   "cell_type": "code",
   "execution_count": 39,
   "metadata": {
    "ExecuteTime": {
     "end_time": "2024-01-23T21:37:46.870978Z",
     "start_time": "2024-01-23T21:37:24.685055Z"
    }
   },
   "outputs": [
    {
     "name": "stdout",
     "output_type": "stream",
     "text": [
      "Enter the number10\n",
      "45\n"
     ]
    }
   ],
   "source": [
    "#3: Python program to calculate the sum of all numbers from 1 to a given number.\n",
    "n = int(input('Enter the number'))\n",
    "summ = 0\n",
    "for i in range(1,n):\n",
    "    summ = summ+i\n",
    "print(summ)"
   ]
  },
  {
   "cell_type": "code",
   "execution_count": 38,
   "metadata": {
    "ExecuteTime": {
     "end_time": "2024-01-23T21:37:18.391853Z",
     "start_time": "2024-01-23T21:37:15.181098Z"
    }
   },
   "outputs": [
    {
     "name": "stdout",
     "output_type": "stream",
     "text": [
      "Enter the number11\n",
      "1\n",
      "4\n",
      "9\n",
      "16\n",
      "25\n"
     ]
    }
   ],
   "source": [
    "#4: Python program to calculate the sum of all the odd numbers within the given range.\n",
    "n = int(input('Enter the number'))\n",
    "summ = 0\n",
    "for i in range(1,n):\n",
    "    if i%2!=0:\n",
    "        summ = summ + i\n",
    "        print(summ)\n",
    "    "
   ]
  },
  {
   "cell_type": "code",
   "execution_count": 50,
   "metadata": {
    "ExecuteTime": {
     "end_time": "2024-01-23T22:03:47.800788Z",
     "start_time": "2024-01-23T22:03:45.533517Z"
    }
   },
   "outputs": [
    {
     "name": "stdout",
     "output_type": "stream",
     "text": [
      "Enter the number5\n",
      "Multiplication table of 5 is 5*1 = 5 \n",
      "Multiplication table of 5 is 5*2 = 10 \n",
      "Multiplication table of 5 is 5*3 = 15 \n",
      "Multiplication table of 5 is 5*4 = 20 \n",
      "Multiplication table of 5 is 5*5 = 25 \n",
      "Multiplication table of 5 is 5*6 = 30 \n",
      "Multiplication table of 5 is 5*7 = 35 \n",
      "Multiplication table of 5 is 5*8 = 40 \n",
      "Multiplication table of 5 is 5*9 = 45 \n",
      "Multiplication table of 5 is 5*10 = 50 \n"
     ]
    }
   ],
   "source": [
    "#5.Python program to print a multiplication table of a given number\n",
    "n = int(input('Enter the number'))\n",
    "for i in range(1,11):\n",
    "    ans = i*n\n",
    "    print(f'Multiplication table of {n} is {n}*{i} = {ans} ')\n"
   ]
  },
  {
   "cell_type": "code",
   "execution_count": null,
   "metadata": {},
   "outputs": [],
   "source": [
    "#6.Python program to display numbers from a list using a for loop.\n",
    "\n",
    "\n",
    "\n"
   ]
  },
  {
   "cell_type": "code",
   "execution_count": null,
   "metadata": {},
   "outputs": [],
   "source": [
    "#7.Python program to count the total number of digits in a number.\n",
    "\n",
    "\n",
    "\n"
   ]
  },
  {
   "cell_type": "code",
   "execution_count": null,
   "metadata": {},
   "outputs": [],
   "source": [
    "#8.Python program to check if the given string is a palindrome.\n",
    "\n",
    "\n",
    "\n"
   ]
  },
  {
   "cell_type": "code",
   "execution_count": null,
   "metadata": {},
   "outputs": [],
   "source": [
    "#9.Python program that accepts a word from the user and reverses it.\n",
    "\n",
    "\n",
    "\n"
   ]
  },
  {
   "cell_type": "code",
   "execution_count": null,
   "metadata": {},
   "outputs": [],
   "source": [
    "#10.Python program to check if a given number is an Armstrong number\n",
    "\n",
    "\n",
    "\n"
   ]
  },
  {
   "cell_type": "code",
   "execution_count": null,
   "metadata": {},
   "outputs": [],
   "source": [
    "#11.Python program to count the number of even and odd numbers from a series of numbers.\n",
    "\n",
    "\n",
    "\n"
   ]
  },
  {
   "cell_type": "code",
   "execution_count": null,
   "metadata": {},
   "outputs": [],
   "source": [
    "#12.Python program to display all numbers within a range except the prime numbers. \n",
    "\n",
    "\n",
    "\n"
   ]
  },
  {
   "cell_type": "code",
   "execution_count": null,
   "metadata": {},
   "outputs": [],
   "source": [
    "#13: Python program to get the Fibonacci series between 0 to 50.\n",
    "#14: Python program to find the factorial of a given number.\n",
    "#15: Python program that accepts a string and calculates the number of digits and letters.\n",
    "#16: Write a Python program that iterates the integers from 1 to 25.\n",
    "#17: Python program to check the validity of password input by users.\n",
    "#18: Python program to convert the month name to a number of days."
   ]
  },
  {
   "cell_type": "code",
   "execution_count": 51,
   "metadata": {
    "ExecuteTime": {
     "end_time": "2024-01-25T22:35:56.310207Z",
     "start_time": "2024-01-25T22:35:55.731084Z"
    }
   },
   "outputs": [
    {
     "name": "stdout",
     "output_type": "stream",
     "text": [
      "1 2 3 4 5 6 7 8 9 10 \n",
      "2 4 6 8 10 12 14 16 18 20 \n",
      "3 6 9 12 15 18 21 24 27 30 \n",
      "4 8 12 16 20 24 28 32 36 40 \n",
      "5 10 15 20 25 30 35 40 45 50 \n",
      "6 12 18 24 30 36 42 48 54 60 \n",
      "7 14 21 28 35 42 49 56 63 70 \n",
      "8 16 24 32 40 48 56 64 72 80 \n",
      "9 18 27 36 45 54 63 72 81 90 \n",
      "10 20 30 40 50 60 70 80 90 100 \n"
     ]
    }
   ],
   "source": [
    "#Example: Write a nested for loop program to print multiplication table in Python\n",
    "\n",
    "for i in range(1,11):\n",
    "    for j in range(1,11):\n",
    "        print(i*j,end=' ')\n",
    "    print()"
   ]
  },
  {
   "cell_type": "code",
   "execution_count": 52,
   "metadata": {
    "ExecuteTime": {
     "end_time": "2024-01-25T22:36:55.318462Z",
     "start_time": "2024-01-25T22:36:55.305962Z"
    }
   },
   "outputs": [
    {
     "name": "stdout",
     "output_type": "stream",
     "text": [
      "1 0\n",
      "2 0\n",
      "2 1\n",
      "3 0\n",
      "3 1\n",
      "3 2\n"
     ]
    }
   ],
   "source": [
    "for i in range(4):\n",
    "    for j in range(4):\n",
    "        if j == i:\n",
    "            break\n",
    "        print(i, j)"
   ]
  },
  {
   "cell_type": "code",
   "execution_count": 53,
   "metadata": {
    "ExecuteTime": {
     "end_time": "2024-01-25T22:38:02.013906Z",
     "start_time": "2024-01-25T22:38:01.799247Z"
    }
   },
   "outputs": [
    {
     "name": "stdout",
     "output_type": "stream",
     "text": [
      "2 * 4 =  8\n",
      "2 * 6 =  12\n",
      "4 * 2 =  8\n",
      "4 * 6 =  24\n",
      "6 * 2 =  12\n",
      "6 * 4 =  24\n"
     ]
    }
   ],
   "source": [
    "first = [2, 4, 6]\n",
    "second = [2, 4, 6]\n",
    "for i in first:\n",
    "    for j in second:\n",
    "        if i == j:\n",
    "            continue\n",
    "        print(i, '*', j, '= ', i * j)"
   ]
  },
  {
   "cell_type": "code",
   "execution_count": 54,
   "metadata": {
    "ExecuteTime": {
     "end_time": "2024-01-25T22:45:13.971154Z",
     "start_time": "2024-01-25T22:45:13.859970Z"
    }
   },
   "outputs": [
    {
     "name": "stdout",
     "output_type": "stream",
     "text": [
      "[22, 32, 42, 23, 33, 43, 24, 34, 44]\n"
     ]
    }
   ],
   "source": [
    "first = [2, 3, 4]\n",
    "second = [20, 30, 40]\n",
    "final = []\n",
    "for i in first:\n",
    "    for j in second:\n",
    "        final.append(i+j)\n",
    "print(final)\n",
    "        \n",
    "        "
   ]
  },
  {
   "cell_type": "code",
   "execution_count": 55,
   "metadata": {
    "ExecuteTime": {
     "end_time": "2024-01-25T22:49:39.548937Z",
     "start_time": "2024-01-25T22:49:39.431187Z"
    }
   },
   "outputs": [
    {
     "name": "stdout",
     "output_type": "stream",
     "text": [
      "[[10, 30], [10, 50], [20, 30], [20, 10], [20, 50], [30, 10], [30, 50]]\n"
     ]
    }
   ],
   "source": [
    "final = [[x,y] for x in [10,20,30] for y in [30,10,50] if x!=y]\n",
    "print(final)"
   ]
  },
  {
   "cell_type": "code",
   "execution_count": null,
   "metadata": {},
   "outputs": [],
   "source": []
  }
 ],
 "metadata": {
  "kernelspec": {
   "display_name": "Python 3",
   "language": "python",
   "name": "python3"
  },
  "language_info": {
   "codemirror_mode": {
    "name": "ipython",
    "version": 3
   },
   "file_extension": ".py",
   "mimetype": "text/x-python",
   "name": "python",
   "nbconvert_exporter": "python",
   "pygments_lexer": "ipython3",
   "version": "3.7.6"
  }
 },
 "nbformat": 4,
 "nbformat_minor": 4
}
