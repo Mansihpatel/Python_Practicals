{
 "cells": [
  {
   "cell_type": "markdown",
   "metadata": {},
   "source": [
    "# Strings"
   ]
  },
  {
   "cell_type": "code",
   "execution_count": 2,
   "metadata": {
    "ExecuteTime": {
     "end_time": "2024-02-29T17:07:31.647276Z",
     "start_time": "2024-02-29T17:07:31.628329Z"
    }
   },
   "outputs": [
    {
     "data": {
      "text/plain": [
       "['__add__',\n",
       " '__class__',\n",
       " '__contains__',\n",
       " '__delattr__',\n",
       " '__dir__',\n",
       " '__doc__',\n",
       " '__eq__',\n",
       " '__format__',\n",
       " '__ge__',\n",
       " '__getattribute__',\n",
       " '__getitem__',\n",
       " '__getnewargs__',\n",
       " '__gt__',\n",
       " '__hash__',\n",
       " '__init__',\n",
       " '__init_subclass__',\n",
       " '__iter__',\n",
       " '__le__',\n",
       " '__len__',\n",
       " '__lt__',\n",
       " '__mod__',\n",
       " '__mul__',\n",
       " '__ne__',\n",
       " '__new__',\n",
       " '__reduce__',\n",
       " '__reduce_ex__',\n",
       " '__repr__',\n",
       " '__rmod__',\n",
       " '__rmul__',\n",
       " '__setattr__',\n",
       " '__sizeof__',\n",
       " '__str__',\n",
       " '__subclasshook__',\n",
       " 'capitalize',\n",
       " 'casefold',\n",
       " 'center',\n",
       " 'count',\n",
       " 'encode',\n",
       " 'endswith',\n",
       " 'expandtabs',\n",
       " 'find',\n",
       " 'format',\n",
       " 'format_map',\n",
       " 'index',\n",
       " 'isalnum',\n",
       " 'isalpha',\n",
       " 'isascii',\n",
       " 'isdecimal',\n",
       " 'isdigit',\n",
       " 'isidentifier',\n",
       " 'islower',\n",
       " 'isnumeric',\n",
       " 'isprintable',\n",
       " 'isspace',\n",
       " 'istitle',\n",
       " 'isupper',\n",
       " 'join',\n",
       " 'ljust',\n",
       " 'lower',\n",
       " 'lstrip',\n",
       " 'maketrans',\n",
       " 'partition',\n",
       " 'replace',\n",
       " 'rfind',\n",
       " 'rindex',\n",
       " 'rjust',\n",
       " 'rpartition',\n",
       " 'rsplit',\n",
       " 'rstrip',\n",
       " 'split',\n",
       " 'splitlines',\n",
       " 'startswith',\n",
       " 'strip',\n",
       " 'swapcase',\n",
       " 'title',\n",
       " 'translate',\n",
       " 'upper',\n",
       " 'zfill']"
      ]
     },
     "execution_count": 2,
     "metadata": {},
     "output_type": "execute_result"
    }
   ],
   "source": [
    "dir(str)"
   ]
  },
  {
   "cell_type": "code",
   "execution_count": 1,
   "metadata": {
    "ExecuteTime": {
     "end_time": "2024-02-29T17:07:11.321392Z",
     "start_time": "2024-02-29T17:07:11.306431Z"
    }
   },
   "outputs": [
    {
     "name": "stdout",
     "output_type": "stream",
     "text": [
      "Hello Python\n"
     ]
    }
   ],
   "source": [
    "#String Creation\n",
    "str1 = 'Hello Python'\n",
    "print(str1)"
   ]
  },
  {
   "cell_type": "code",
   "execution_count": 8,
   "metadata": {
    "ExecuteTime": {
     "end_time": "2024-02-29T17:16:32.071184Z",
     "start_time": "2024-02-29T17:16:32.060214Z"
    }
   },
   "outputs": [
    {
     "name": "stdout",
     "output_type": "stream",
     "text": [
      "Hello world\n"
     ]
    }
   ],
   "source": [
    "#Capitalize\n",
    "str1 = 'hellO WoRld'\n",
    "print(str1.capitalize())"
   ]
  },
  {
   "cell_type": "code",
   "execution_count": 13,
   "metadata": {
    "ExecuteTime": {
     "end_time": "2024-02-29T17:18:39.471662Z",
     "start_time": "2024-02-29T17:18:39.466157Z"
    }
   },
   "outputs": [
    {
     "name": "stdout",
     "output_type": "stream",
     "text": [
      "hello world\n",
      "Object `casefold()` not found.\n"
     ]
    }
   ],
   "source": [
    "#Casefold\n",
    "str1 = 'HellO WoRld'\n",
    "print(str1.casefold())\n",
    "?casefold()"
   ]
  },
  {
   "cell_type": "code",
   "execution_count": 16,
   "metadata": {
    "ExecuteTime": {
     "end_time": "2024-02-29T17:22:32.059328Z",
     "start_time": "2024-02-29T17:22:32.045366Z"
    }
   },
   "outputs": [
    {
     "name": "stdout",
     "output_type": "stream",
     "text": [
      "*******************HellO WoRld********************\n"
     ]
    }
   ],
   "source": [
    "#Center\n",
    "str1 = 'HellO WoRld'\n",
    "print(str1.center(50,'*'))"
   ]
  },
  {
   "cell_type": "code",
   "execution_count": 27,
   "metadata": {
    "ExecuteTime": {
     "end_time": "2024-02-29T17:31:58.382227Z",
     "start_time": "2024-02-29T17:31:58.368095Z"
    }
   },
   "outputs": [
    {
     "name": "stdout",
     "output_type": "stream",
     "text": [
      "3\n"
     ]
    }
   ],
   "source": [
    "#Count\n",
    "str1 = 'Hello World Hello Hello s'\n",
    "print(str1.count('Hell'))\n"
   ]
  },
  {
   "cell_type": "code",
   "execution_count": 29,
   "metadata": {
    "ExecuteTime": {
     "end_time": "2024-02-29T17:36:54.215855Z",
     "start_time": "2024-02-29T17:36:54.203882Z"
    }
   },
   "outputs": [
    {
     "name": "stdout",
     "output_type": "stream",
     "text": [
      "b'Hello World Hellos'\n"
     ]
    }
   ],
   "source": [
    "#Encode\n",
    "str1 = 'Hello World Hellos'\n",
    "print(str1.encode())"
   ]
  },
  {
   "cell_type": "code",
   "execution_count": 33,
   "metadata": {
    "ExecuteTime": {
     "end_time": "2024-02-29T17:56:01.904631Z",
     "start_time": "2024-02-29T17:56:01.888670Z"
    }
   },
   "outputs": [
    {
     "name": "stdout",
     "output_type": "stream",
     "text": [
      "False\n"
     ]
    }
   ],
   "source": [
    "#Endswith\n",
    "str1 = 'Hello World'\n",
    "print(str1.endswith('rold'))\n",
    "\n"
   ]
  },
  {
   "cell_type": "code",
   "execution_count": 37,
   "metadata": {
    "ExecuteTime": {
     "end_time": "2024-02-29T17:59:53.650197Z",
     "start_time": "2024-02-29T17:59:53.639228Z"
    }
   },
   "outputs": [
    {
     "name": "stdout",
     "output_type": "stream",
     "text": [
      "This  is a  string\n"
     ]
    }
   ],
   "source": [
    "#Expandtabs\n",
    "str1 = \"This\\tis\\ta\\tstring\"\n",
    "print(str1.expandtabs(3))"
   ]
  },
  {
   "cell_type": "code",
   "execution_count": 42,
   "metadata": {
    "ExecuteTime": {
     "end_time": "2024-02-29T18:00:54.825103Z",
     "start_time": "2024-02-29T18:00:54.820124Z"
    }
   },
   "outputs": [
    {
     "name": "stdout",
     "output_type": "stream",
     "text": [
      "-1\n",
      "2\n"
     ]
    }
   ],
   "source": [
    "#find\n",
    "str1 = 'This is a string'\n",
    "print(str1.find('M'))\n",
    "print(str1.find('is'))#it will return 1st occurence"
   ]
  },
  {
   "cell_type": "code",
   "execution_count": 44,
   "metadata": {
    "ExecuteTime": {
     "end_time": "2024-02-29T18:05:00.788792Z",
     "start_time": "2024-02-29T18:05:00.777822Z"
    }
   },
   "outputs": [
    {
     "data": {
      "text/plain": [
       "'My name is Mansi,I am 38'"
      ]
     },
     "execution_count": 44,
     "metadata": {},
     "output_type": "execute_result"
    }
   ],
   "source": [
    "#format\n",
    "str1 = 'My name is {},I am {}'.format('Mansi',38)\n",
    "str1 "
   ]
  },
  {
   "cell_type": "code",
   "execution_count": 52,
   "metadata": {
    "ExecuteTime": {
     "end_time": "2024-02-29T18:11:58.862009Z",
     "start_time": "2024-02-29T18:11:58.843071Z"
    }
   },
   "outputs": [
    {
     "name": "stdout",
     "output_type": "stream",
     "text": [
      "4 -5\n",
      "Mansi's last name is Patel\n"
     ]
    }
   ],
   "source": [
    "#format_map\n",
    "point = {'x':4,'y':-5}\n",
    "print('{x} {y}'.format(**point))\n",
    "\n",
    "#******\n",
    "a = {'x':'Mansi','y':'Patel'}\n",
    "print(\"{x}'s last name is {y}\".format_map(a))"
   ]
  },
  {
   "cell_type": "code",
   "execution_count": 55,
   "metadata": {
    "ExecuteTime": {
     "end_time": "2024-03-01T09:44:18.820700Z",
     "start_time": "2024-03-01T09:44:18.800530Z"
    }
   },
   "outputs": [
    {
     "data": {
      "text/plain": [
       "3"
      ]
     },
     "execution_count": 55,
     "metadata": {},
     "output_type": "execute_result"
    }
   ],
   "source": [
    "#Index\n",
    "str1 = 'This is string'\n",
    "str1.index('s')"
   ]
  },
  {
   "cell_type": "code",
   "execution_count": 98,
   "metadata": {
    "ExecuteTime": {
     "end_time": "2024-03-01T12:14:30.541597Z",
     "start_time": "2024-03-01T12:14:30.529624Z"
    },
    "scrolled": true
   },
   "outputs": [
    {
     "name": "stdout",
     "output_type": "stream",
     "text": [
      "True\n",
      "True\n",
      "False\n"
     ]
    }
   ],
   "source": [
    "#isalnum\n",
    "str1 = 'Thisisstring'\n",
    "print(str1.isalnum())\n",
    "\n",
    "# Check if all characters in the string are alphanumeric\n",
    "S = 'abc123'\n",
    "x = S.isalnum()\n",
    "print(x)\n",
    "\n",
    "S = 'abc 123'\n",
    "x = S.isalnum()\n",
    "print(x)\n"
   ]
  },
  {
   "cell_type": "code",
   "execution_count": 72,
   "metadata": {
    "ExecuteTime": {
     "end_time": "2024-03-01T11:45:27.200367Z",
     "start_time": "2024-03-01T11:45:27.180539Z"
    }
   },
   "outputs": [
    {
     "name": "stdout",
     "output_type": "stream",
     "text": [
      "True\n",
      "False\n",
      "True\n"
     ]
    }
   ],
   "source": [
    "#Isalpha \n",
    "str1= 'Thisisstring'\n",
    "print(str1.isalpha())\n",
    "\n",
    "txt = \"Comp any\"\n",
    "x = txt.isalnum()\n",
    "print(x)\n",
    "\n",
    "txt = \"Company\"\n",
    "x = txt.isalpha()\n",
    "print(x)"
   ]
  },
  {
   "cell_type": "code",
   "execution_count": 86,
   "metadata": {
    "ExecuteTime": {
     "end_time": "2024-03-01T12:08:04.453825Z",
     "start_time": "2024-03-01T12:08:04.443851Z"
    }
   },
   "outputs": [
    {
     "name": "stdout",
     "output_type": "stream",
     "text": [
      "True\n",
      "False\n"
     ]
    }
   ],
   "source": [
    "#Isascii\n",
    "str1 = '#'\n",
    "print(str1.isascii())\n",
    "mystr = 'Å' \n",
    "print(mystr.isascii())"
   ]
  },
  {
   "cell_type": "code",
   "execution_count": 93,
   "metadata": {
    "ExecuteTime": {
     "end_time": "2024-03-01T12:10:05.932634Z",
     "start_time": "2024-03-01T12:10:05.923660Z"
    },
    "scrolled": true
   },
   "outputs": [
    {
     "name": "stdout",
     "output_type": "stream",
     "text": [
      "False\n"
     ]
    }
   ],
   "source": [
    "#Isdecimal\n",
    "txt = \"123.10\"\n",
    "x = txt.isdecimal()\n",
    "print(x)"
   ]
  },
  {
   "cell_type": "code",
   "execution_count": 96,
   "metadata": {
    "ExecuteTime": {
     "end_time": "2024-03-01T12:13:41.793386Z",
     "start_time": "2024-03-01T12:13:41.782379Z"
    }
   },
   "outputs": [
    {
     "name": "stdout",
     "output_type": "stream",
     "text": [
      "False\n"
     ]
    }
   ],
   "source": [
    "#Isdigit\n",
    "txt = 'ABC12'\n",
    "print(txt.isdigit())"
   ]
  },
  {
   "cell_type": "code",
   "execution_count": 105,
   "metadata": {
    "ExecuteTime": {
     "end_time": "2024-03-01T13:04:47.138199Z",
     "start_time": "2024-03-01T13:04:47.124261Z"
    }
   },
   "outputs": [
    {
     "name": "stdout",
     "output_type": "stream",
     "text": [
      "True\n",
      "True\n",
      "False\n",
      "False\n"
     ]
    }
   ],
   "source": [
    "#isidentifier\n",
    "x = 'Abc_'\n",
    "print(x.isidentifier())\n",
    "\n",
    "x= '_ABC__'\n",
    "print(x.isidentifier())\n",
    "\n",
    "x= '234A'\n",
    "print(x.isidentifier())\n",
    "\n",
    "x= '@234A'\n",
    "print(x.isidentifier())\n"
   ]
  },
  {
   "cell_type": "code",
   "execution_count": 106,
   "metadata": {
    "ExecuteTime": {
     "end_time": "2024-03-01T13:08:08.820215Z",
     "start_time": "2024-03-01T13:08:08.798273Z"
    }
   },
   "outputs": [
    {
     "ename": "SyntaxError",
     "evalue": "invalid syntax (<ipython-input-106-6d2168391033>, line 1)",
     "output_type": "error",
     "traceback": [
      "\u001b[1;36m  File \u001b[1;32m\"<ipython-input-106-6d2168391033>\"\u001b[1;36m, line \u001b[1;32m1\u001b[0m\n\u001b[1;33m    islower', 'isnumeric',  'isprintable',  'isspace', 'istitle', 'isupper', 'join', 'ljust', 'lower', 'lstrip',\u001b[0m\n\u001b[1;37m              ^\u001b[0m\n\u001b[1;31mSyntaxError\u001b[0m\u001b[1;31m:\u001b[0m invalid syntax\n"
     ]
    }
   ],
   "source": [
    "islower', 'isnumeric',  'isprintable',  'isspace', 'istitle', 'isupper', 'join', 'ljust', 'lower', 'lstrip',"
   ]
  },
  {
   "cell_type": "code",
   "execution_count": 109,
   "metadata": {
    "ExecuteTime": {
     "end_time": "2024-03-01T13:11:37.196853Z",
     "start_time": "2024-03-01T13:11:37.176908Z"
    }
   },
   "outputs": [
    {
     "name": "stdout",
     "output_type": "stream",
     "text": [
      "False\n"
     ]
    }
   ],
   "source": [
    "#islower\n",
    "str1 = 'hisL is string'\n",
    "print(str1.islower())"
   ]
  },
  {
   "cell_type": "code",
   "execution_count": 119,
   "metadata": {
    "ExecuteTime": {
     "end_time": "2024-03-01T13:16:47.725894Z",
     "start_time": "2024-03-01T13:16:47.711419Z"
    }
   },
   "outputs": [
    {
     "name": "stdout",
     "output_type": "stream",
     "text": [
      "False\n",
      "True\n"
     ]
    }
   ],
   "source": [
    "#isnumeric\n",
    "str1 = 'This is a string'\n",
    "print(str1.isnumeric())\n",
    "\n",
    "str11 = '3455' \n",
    "print(str11.isnumeric())"
   ]
  },
  {
   "cell_type": "code",
   "execution_count": 121,
   "metadata": {
    "ExecuteTime": {
     "end_time": "2024-03-01T13:25:25.006324Z",
     "start_time": "2024-03-01T13:25:24.985381Z"
    }
   },
   "outputs": [
    {
     "name": "stdout",
     "output_type": "stream",
     "text": [
      "True\n",
      "False\n"
     ]
    }
   ],
   "source": [
    "#isprintable\n",
    "txt = \"Hello! Are you #1?\"\n",
    "x = txt.isprintable()\n",
    "print(x)\n",
    "\n",
    "txt1 = \"Hello! Are you #1\\n?\"\n",
    "\n",
    "y = txt1.isprintable()\n",
    "\n",
    "print(y)"
   ]
  },
  {
   "cell_type": "code",
   "execution_count": 129,
   "metadata": {
    "ExecuteTime": {
     "end_time": "2024-03-01T14:57:28.139931Z",
     "start_time": "2024-03-01T14:57:28.001821Z"
    }
   },
   "outputs": [
    {
     "name": "stdout",
     "output_type": "stream",
     "text": [
      "True\n"
     ]
    }
   ],
   "source": [
    "#isspace\n",
    "str1 = '\\t'\n",
    "print(str1.isspace())"
   ]
  },
  {
   "cell_type": "code",
   "execution_count": 130,
   "metadata": {
    "ExecuteTime": {
     "end_time": "2024-03-01T14:58:11.170759Z",
     "start_time": "2024-03-01T14:58:11.155402Z"
    }
   },
   "outputs": [
    {
     "name": "stdout",
     "output_type": "stream",
     "text": [
      "This Is The String\n"
     ]
    }
   ],
   "source": [
    "#istitle\n",
    "str1 = 'This is the string'\n",
    "print(str1.title())"
   ]
  },
  {
   "cell_type": "code",
   "execution_count": 132,
   "metadata": {
    "ExecuteTime": {
     "end_time": "2024-03-01T14:59:00.030453Z",
     "start_time": "2024-03-01T14:59:00.010951Z"
    }
   },
   "outputs": [
    {
     "name": "stdout",
     "output_type": "stream",
     "text": [
      "True\n"
     ]
    }
   ],
   "source": [
    "#isupper\n",
    "str1 = 'THIS'\n",
    "print(str1.isupper())"
   ]
  },
  {
   "cell_type": "code",
   "execution_count": 139,
   "metadata": {
    "ExecuteTime": {
     "end_time": "2024-03-01T15:08:52.068615Z",
     "start_time": "2024-03-01T15:08:52.060638Z"
    }
   },
   "outputs": [
    {
     "name": "stdout",
     "output_type": "stream",
     "text": [
      "john#peter#vickey\n"
     ]
    }
   ],
   "source": [
    "#join\n",
    "str1 = ('john' ,'peter','vickey')\n",
    "print('#'.join(str1))\n",
    "    "
   ]
  },
  {
   "cell_type": "code",
   "execution_count": 143,
   "metadata": {
    "ExecuteTime": {
     "end_time": "2024-03-01T15:14:10.373102Z",
     "start_time": "2024-03-01T15:14:10.353927Z"
    }
   },
   "outputs": [
    {
     "name": "stdout",
     "output_type": "stream",
     "text": [
      "This is the string                                 Of python\n",
      "banana               is my favorite fruit.\n"
     ]
    }
   ],
   "source": [
    "#ljust\n",
    "str1 = 'This is the string'\n",
    "print(str1.ljust(50),'Of python')\n",
    "\n",
    "txt = \"banana\"\n",
    "x = txt.ljust(20)\n",
    "print(x, \"is my favorite fruit.\")"
   ]
  },
  {
   "cell_type": "code",
   "execution_count": 145,
   "metadata": {
    "ExecuteTime": {
     "end_time": "2024-03-01T15:19:03.288342Z",
     "start_time": "2024-03-01T15:19:03.268683Z"
    }
   },
   "outputs": [
    {
     "data": {
      "text/plain": [
       "True"
      ]
     },
     "execution_count": 145,
     "metadata": {},
     "output_type": "execute_result"
    }
   ],
   "source": [
    "#lower\n",
    "str1 = 'this is python'\n",
    "str1.islower()"
   ]
  },
  {
   "cell_type": "code",
   "execution_count": 154,
   "metadata": {
    "ExecuteTime": {
     "end_time": "2024-03-01T15:41:12.830427Z",
     "start_time": "2024-03-01T15:41:12.820309Z"
    }
   },
   "outputs": [
    {
     "name": "stdout",
     "output_type": "stream",
     "text": [
      "this is good \n",
      "   this is good \n",
      "his is good \n",
      "www.programiz.com/\n"
     ]
    }
   ],
   "source": [
    "# lstrip\n",
    "random_string = '   this is good '\n",
    "\n",
    "# Leading whitepsace are removed\n",
    "print(random_string.lstrip())\n",
    "\n",
    "# Argument doesn't contain space\n",
    "# No characters are removed.\n",
    "print(random_string.lstrip('sti'))\n",
    "\n",
    "print(random_string.lstrip('s ti'))\n",
    "\n",
    "website = 'https://www.programiz.com/'\n",
    "print(website.lstrip('htps:/.'))"
   ]
  },
  {
   "cell_type": "code",
   "execution_count": 156,
   "metadata": {
    "ExecuteTime": {
     "end_time": "2024-03-01T16:00:32.160470Z",
     "start_time": "2024-03-01T16:00:32.131489Z"
    }
   },
   "outputs": [
    {
     "name": "stdout",
     "output_type": "stream",
     "text": [
      "{97: '123', 98: '456', 99: '789'}\n"
     ]
    }
   ],
   "source": [
    "#maketrans\n",
    "# example dictionary\n",
    "dict = {\"a\": \"123\", \"b\": \"456\", \"c\": \"789\"}\n",
    "string = \"abc\"\n",
    "print(string.maketrans(dict))"
   ]
  },
  {
   "cell_type": "code",
   "execution_count": 159,
   "metadata": {
    "ExecuteTime": {
     "end_time": "2024-03-01T16:13:36.106547Z",
     "start_time": "2024-03-01T16:13:36.085600Z"
    }
   },
   "outputs": [
    {
     "name": "stdout",
     "output_type": "stream",
     "text": [
      "('I', ' ', 'could eat bananas all day')\n"
     ]
    }
   ],
   "source": [
    "# partition\n",
    "txt = \"I could eat bananas all day\"\n",
    "x = txt.partition(\" \")\n",
    "print(x)"
   ]
  },
  {
   "cell_type": "code",
   "execution_count": 161,
   "metadata": {
    "ExecuteTime": {
     "end_time": "2024-03-01T16:19:26.362502Z",
     "start_time": "2024-03-01T16:19:26.343552Z"
    }
   },
   "outputs": [
    {
     "name": "stdout",
     "output_type": "stream",
     "text": [
      "ThOne One string\n"
     ]
    }
   ],
   "source": [
    "#Replace\n",
    "str1 = 'This is string'\n",
    "print(str1.replace('is','One'))"
   ]
  },
  {
   "cell_type": "code",
   "execution_count": 162,
   "metadata": {
    "ExecuteTime": {
     "end_time": "2024-03-01T16:30:21.343930Z",
     "start_time": "2024-03-01T16:30:21.282083Z"
    }
   },
   "outputs": [
    {
     "name": "stdout",
     "output_type": "stream",
     "text": [
      "-1\n",
      "25\n"
     ]
    }
   ],
   "source": [
    "#Rfind\n",
    "quote = 'Do small things with great love'\n",
    "\n",
    "# Substring is searched in 'hings with great love'\n",
    "print(quote.rfind('things', 10))\n",
    "\n",
    "# Substring is searched in ' small things with great love' \n",
    "print(quote.rfind('t', 2))"
   ]
  },
  {
   "cell_type": "code",
   "execution_count": 164,
   "metadata": {
    "ExecuteTime": {
     "end_time": "2024-03-01T16:37:33.970449Z",
     "start_time": "2024-03-01T16:37:33.936536Z"
    }
   },
   "outputs": [
    {
     "name": "stdout",
     "output_type": "stream",
     "text": [
      "Highest index where 'be,' occurs: 18\n"
     ]
    }
   ],
   "source": [
    "#rindex\n",
    "quote = 'Let it be, let it be, let it be'\n",
    "\n",
    "result = quote.rfind('be,')\n",
    "if  (result != -1):\n",
    "  print(\"Highest index where 'be,' occurs:\", result)\n",
    "else:\n",
    "  print(\"Doesn't contain substring\")"
   ]
  },
  {
   "cell_type": "code",
   "execution_count": 167,
   "metadata": {
    "ExecuteTime": {
     "end_time": "2024-03-01T16:48:37.411885Z",
     "start_time": "2024-03-01T16:48:37.400765Z"
    }
   },
   "outputs": [
    {
     "name": "stdout",
     "output_type": "stream",
     "text": [
      "-1\n"
     ]
    }
   ],
   "source": [
    "quote = 'Let it be, let it be, let it be'b\n",
    "result = quote.rfind('bee')\n",
    "print(result)"
   ]
  },
  {
   "cell_type": "code",
   "execution_count": 178,
   "metadata": {
    "ExecuteTime": {
     "end_time": "2024-03-01T17:11:14.726627Z",
     "start_time": "2024-03-01T17:11:14.705619Z"
    }
   },
   "outputs": [
    {
     "name": "stdout",
     "output_type": "stream",
     "text": [
      "****************************************MAnsiPatel\n"
     ]
    }
   ],
   "source": [
    "#rjust\n",
    "text = \"MAnsiPatel\"\n",
    "result = text.rjust(50, '*')\n",
    "print(result)"
   ]
  },
  {
   "cell_type": "code",
   "execution_count": 180,
   "metadata": {
    "ExecuteTime": {
     "end_time": "2024-03-01T17:11:37.187764Z",
     "start_time": "2024-03-01T17:11:37.169262Z"
    }
   },
   "outputs": [
    {
     "name": "stdout",
     "output_type": "stream",
     "text": [
      "MAnsiPatel****************************************\n"
     ]
    }
   ],
   "source": [
    "#ljust\n",
    "text = \"MAnsiPatel\"\n",
    "result = text.ljust(50, '*')\n",
    "print(result)"
   ]
  },
  {
   "cell_type": "code",
   "execution_count": 182,
   "metadata": {
    "ExecuteTime": {
     "end_time": "2024-03-01T17:14:55.050892Z",
     "start_time": "2024-03-01T17:14:55.030950Z"
    }
   },
   "outputs": [
    {
     "name": "stdout",
     "output_type": "stream",
     "text": [
      "('Pyth', 'on ', 'is fun')\n"
     ]
    }
   ],
   "source": [
    "#rpartition\n",
    "string = \"Python is fun\"\n",
    "print(string.rpartition('on '))"
   ]
  },
  {
   "cell_type": "code",
   "execution_count": 201,
   "metadata": {
    "ExecuteTime": {
     "end_time": "2024-03-02T10:38:11.232090Z",
     "start_time": "2024-03-02T10:38:11.178300Z"
    }
   },
   "outputs": [
    {
     "name": "stdout",
     "output_type": "stream",
     "text": [
      "['apple', 'banana', 'cherry']\n"
     ]
    }
   ],
   "source": [
    "#rsplit\n",
    "txt = \"apple, banana, cherry\"\n",
    "# setting the maxsplit parameter to 1, will return a list with 2 elements!\n",
    "x = txt.rsplit(\", \", 1)\n",
    "\n",
    "print(x)"
   ]
  },
  {
   "cell_type": "code",
   "execution_count": 183,
   "metadata": {
    "ExecuteTime": {
     "end_time": "2024-03-01T17:20:08.550222Z",
     "start_time": "2024-03-01T17:20:08.528279Z"
    }
   },
   "outputs": [
    {
     "name": "stdout",
     "output_type": "stream",
     "text": [
      "Python Programming\n"
     ]
    }
   ],
   "source": [
    "#rstrip\n",
    "title = 'Python Programming     '\n",
    "# remove trailing whitespace from title\n",
    "result = title.rstrip()\n",
    "print(result)"
   ]
  },
  {
   "cell_type": "code",
   "execution_count": 186,
   "metadata": {
    "ExecuteTime": {
     "end_time": "2024-03-01T17:21:04.181921Z",
     "start_time": "2024-03-01T17:21:04.162964Z"
    }
   },
   "outputs": [
    {
     "name": "stdout",
     "output_type": "stream",
     "text": [
      "['Pytho', ' Programmi', 'g     ']\n"
     ]
    }
   ],
   "source": [
    "#split\n",
    "title = 'Python Programming     '\n",
    "result = title.split('n')\n",
    "print(result)"
   ]
  },
  {
   "cell_type": "code",
   "execution_count": 187,
   "metadata": {
    "ExecuteTime": {
     "end_time": "2024-03-01T17:24:34.028506Z",
     "start_time": "2024-03-01T17:24:34.008558Z"
    }
   },
   "outputs": [
    {
     "name": "stdout",
     "output_type": "stream",
     "text": [
      "['Ilove', 'Python', 'Programming.']\n"
     ]
    }
   ],
   "source": [
    "#splitlines\n",
    "# \\n is a line boundary \n",
    "sentence = 'Ilove\\nPython\\nProgramming.'\n",
    "\n",
    "# returns a list after spliting string at line breaks \n",
    "resulting_list = sentence.splitlines()\n",
    "\n",
    "print(resulting_list)\n"
   ]
  },
  {
   "cell_type": "code",
   "execution_count": 190,
   "metadata": {
    "ExecuteTime": {
     "end_time": "2024-03-01T17:25:38.329980Z",
     "start_time": "2024-03-01T17:25:38.314021Z"
    }
   },
   "outputs": [
    {
     "name": "stdout",
     "output_type": "stream",
     "text": [
      "False\n"
     ]
    }
   ],
   "source": [
    "#startswith\n",
    "str1 = 'This is string'\n",
    "print(str1.startswith('s'))"
   ]
  },
  {
   "cell_type": "code",
   "execution_count": 192,
   "metadata": {
    "ExecuteTime": {
     "end_time": "2024-03-01T17:28:08.338045Z",
     "start_time": "2024-03-01T17:28:08.317099Z"
    }
   },
   "outputs": [
    {
     "name": "stdout",
     "output_type": "stream",
     "text": [
      "This is string\n"
     ]
    }
   ],
   "source": [
    "#strip\n",
    "str1 = '  This is string  '\n",
    "#this will remove leading and trailing whitespaces\n",
    "print(str1.strip())"
   ]
  },
  {
   "cell_type": "code",
   "execution_count": 194,
   "metadata": {
    "ExecuteTime": {
     "end_time": "2024-03-01T17:29:31.366904Z",
     "start_time": "2024-03-01T17:29:31.351422Z"
    }
   },
   "outputs": [
    {
     "name": "stdout",
     "output_type": "stream",
     "text": [
      "this IS MY STRING\n"
     ]
    }
   ],
   "source": [
    "#swapcase\n",
    "str1 = 'THIS is my string'\n",
    "print(str1.swapcase())"
   ]
  },
  {
   "cell_type": "code",
   "execution_count": 195,
   "metadata": {
    "ExecuteTime": {
     "end_time": "2024-03-01T17:29:57.115874Z",
     "start_time": "2024-03-01T17:29:57.095919Z"
    }
   },
   "outputs": [
    {
     "name": "stdout",
     "output_type": "stream",
     "text": [
      "This Is My String\n"
     ]
    }
   ],
   "source": [
    "#title\n",
    "str1 = 'This is my string'\n",
    "print(str1.title())"
   ]
  },
  {
   "cell_type": "code",
   "execution_count": 198,
   "metadata": {
    "ExecuteTime": {
     "end_time": "2024-03-01T17:35:18.712506Z",
     "start_time": "2024-03-01T17:35:18.217164Z"
    }
   },
   "outputs": [
    {
     "name": "stdout",
     "output_type": "stream",
     "text": [
      "Here, effect is noun\n"
     ]
    }
   ],
   "source": [
    "#translate\n",
    "trantab = {97: 101}\n",
    "str = \"Here, affect is noun\"\n",
    "print(str.translate(trantab))"
   ]
  },
  {
   "cell_type": "code",
   "execution_count": 196,
   "metadata": {
    "ExecuteTime": {
     "end_time": "2024-03-01T17:32:06.987680Z",
     "start_time": "2024-03-01T17:32:06.977708Z"
    }
   },
   "outputs": [
    {
     "name": "stdout",
     "output_type": "stream",
     "text": [
      "THIS IS STRING\n"
     ]
    }
   ],
   "source": [
    "#upper \n",
    "str1 = 'This is string'\n",
    "print(str1.upper())"
   ]
  },
  {
   "cell_type": "code",
   "execution_count": 197,
   "metadata": {
    "ExecuteTime": {
     "end_time": "2024-03-01T17:33:25.705545Z",
     "start_time": "2024-03-01T17:33:25.680611Z"
    }
   },
   "outputs": [
    {
     "name": "stdout",
     "output_type": "stream",
     "text": [
      "0program is fun\n",
      "000000program is fun\n",
      "program is fun\n"
     ]
    }
   ],
   "source": [
    "#zfill\n",
    "text = \"program is fun\"\n",
    "print(text.zfill(15))\n",
    "print(text.zfill(20))\n",
    "print(text.zfill(10))"
   ]
  },
  {
   "cell_type": "code",
   "execution_count": 204,
   "metadata": {
    "ExecuteTime": {
     "end_time": "2024-03-02T12:51:24.273106Z",
     "start_time": "2024-03-02T12:51:24.266127Z"
    }
   },
   "outputs": [
    {
     "name": "stdout",
     "output_type": "stream",
     "text": [
      "T h i s   i s   s t r i n g "
     ]
    }
   ],
   "source": [
    "#Iterate through string\n",
    "str1 = 'This is string'\n",
    "for char in str1:\n",
    "    print(char,end=' ')"
   ]
  },
  {
   "cell_type": "code",
   "execution_count": 208,
   "metadata": {
    "ExecuteTime": {
     "end_time": "2024-03-02T15:31:54.709563Z",
     "start_time": "2024-03-02T15:31:54.691845Z"
    }
   },
   "outputs": [
    {
     "data": {
      "text/plain": [
       "'s is string'"
      ]
     },
     "execution_count": 208,
     "metadata": {},
     "output_type": "execute_result"
    }
   ],
   "source": [
    "#String slicing\n",
    "str1 = 'This is string'\n",
    "str1[3:20]"
   ]
  },
  {
   "cell_type": "code",
   "execution_count": 209,
   "metadata": {
    "ExecuteTime": {
     "end_time": "2024-03-02T15:46:26.605389Z",
     "start_time": "2024-03-02T15:46:26.575712Z"
    }
   },
   "outputs": [
    {
     "name": "stdout",
     "output_type": "stream",
     "text": [
      "15\n",
      "Woho Woho Woho \n"
     ]
    },
    {
     "data": {
      "text/plain": [
       "15"
      ]
     },
     "execution_count": 209,
     "metadata": {},
     "output_type": "execute_result"
    }
   ],
   "source": [
    "mystr2 = 'Woho '\n",
    "print(len(mystr2*3))\n",
    "mystr2 = mystr2*3\n",
    "print(mystr2)\n",
    "len(mystr2) #length of the string"
   ]
  },
  {
   "cell_type": "code",
   "execution_count": 210,
   "metadata": {
    "ExecuteTime": {
     "end_time": "2024-03-03T07:05:37.953583Z",
     "start_time": "2024-03-03T07:05:37.924928Z"
    }
   },
   "outputs": [
    {
     "data": {
      "text/plain": [
       "5"
      ]
     },
     "execution_count": 210,
     "metadata": {},
     "output_type": "execute_result"
    }
   ],
   "source": [
    "a='hello'\n",
    "len(a)"
   ]
  },
  {
   "cell_type": "markdown",
   "metadata": {},
   "source": [
    "# Tuple"
   ]
  },
  {
   "cell_type": "code",
   "execution_count": 215,
   "metadata": {
    "ExecuteTime": {
     "end_time": "2024-03-03T07:18:51.463885Z",
     "start_time": "2024-03-03T07:18:51.454890Z"
    }
   },
   "outputs": [
    {
     "name": "stdout",
     "output_type": "stream",
     "text": [
      "['__add__', '__class__', '__contains__', '__delattr__', '__dir__', '__doc__', '__eq__', '__format__', '__ge__', '__getattribute__', '__getitem__', '__getnewargs__', '__gt__', '__hash__', '__init__', '__init_subclass__', '__iter__', '__le__', '__len__', '__lt__', '__mul__', '__ne__', '__new__', '__reduce__', '__reduce_ex__', '__repr__', '__rmul__', '__setattr__', '__sizeof__', '__str__', '__subclasshook__', 'count', 'index']\n"
     ]
    }
   ],
   "source": [
    "print(dir(tuple))\n"
   ]
  },
  {
   "cell_type": "code",
   "execution_count": 222,
   "metadata": {
    "ExecuteTime": {
     "end_time": "2024-03-03T07:23:45.861361Z",
     "start_time": "2024-03-03T07:23:45.846396Z"
    }
   },
   "outputs": [],
   "source": [
    "t1 = (11,11.50,'Abc','XYZ',11)"
   ]
  },
  {
   "cell_type": "code",
   "execution_count": 218,
   "metadata": {
    "ExecuteTime": {
     "end_time": "2024-03-03T07:21:53.568506Z",
     "start_time": "2024-03-03T07:21:53.553548Z"
    }
   },
   "outputs": [
    {
     "data": {
      "text/plain": [
       "tuple"
      ]
     },
     "execution_count": 218,
     "metadata": {},
     "output_type": "execute_result"
    }
   ],
   "source": [
    "type(t1) "
   ]
  },
  {
   "cell_type": "code",
   "execution_count": 220,
   "metadata": {
    "ExecuteTime": {
     "end_time": "2024-03-03T07:23:26.376406Z",
     "start_time": "2024-03-03T07:23:26.354636Z"
    }
   },
   "outputs": [
    {
     "data": {
      "text/plain": [
       "3"
      ]
     },
     "execution_count": 220,
     "metadata": {},
     "output_type": "execute_result"
    }
   ],
   "source": [
    "t1.index('XYZ')"
   ]
  },
  {
   "cell_type": "code",
   "execution_count": 223,
   "metadata": {
    "ExecuteTime": {
     "end_time": "2024-03-03T07:23:47.972458Z",
     "start_time": "2024-03-03T07:23:47.949168Z"
    }
   },
   "outputs": [
    {
     "data": {
      "text/plain": [
       "2"
      ]
     },
     "execution_count": 223,
     "metadata": {},
     "output_type": "execute_result"
    }
   ],
   "source": [
    "t1.count(11)"
   ]
  },
  {
   "cell_type": "code",
   "execution_count": 225,
   "metadata": {
    "ExecuteTime": {
     "end_time": "2024-03-03T07:27:14.349188Z",
     "start_time": "2024-03-03T07:27:14.337589Z"
    }
   },
   "outputs": [
    {
     "data": {
      "text/plain": [
       "'XYZ'"
      ]
     },
     "execution_count": 225,
     "metadata": {},
     "output_type": "execute_result"
    }
   ],
   "source": [
    "t1[3]\n"
   ]
  },
  {
   "cell_type": "code",
   "execution_count": 226,
   "metadata": {
    "ExecuteTime": {
     "end_time": "2024-03-03T07:27:27.652425Z",
     "start_time": "2024-03-03T07:27:27.632627Z"
    }
   },
   "outputs": [
    {
     "data": {
      "text/plain": [
       "(11, 11.5)"
      ]
     },
     "execution_count": 226,
     "metadata": {},
     "output_type": "execute_result"
    }
   ],
   "source": [
    "t1[0:2]\n"
   ]
  },
  {
   "cell_type": "code",
   "execution_count": 228,
   "metadata": {
    "ExecuteTime": {
     "end_time": "2024-03-03T07:27:48.790532Z",
     "start_time": "2024-03-03T07:27:48.772294Z"
    }
   },
   "outputs": [
    {
     "data": {
      "text/plain": [
       "'XY'"
      ]
     },
     "execution_count": 228,
     "metadata": {},
     "output_type": "execute_result"
    }
   ],
   "source": [
    "t1[3][0:2]"
   ]
  },
  {
   "cell_type": "markdown",
   "metadata": {},
   "source": [
    "# List"
   ]
  },
  {
   "cell_type": "code",
   "execution_count": 229,
   "metadata": {
    "ExecuteTime": {
     "end_time": "2024-03-03T07:28:13.641420Z",
     "start_time": "2024-03-03T07:28:13.622109Z"
    }
   },
   "outputs": [
    {
     "name": "stdout",
     "output_type": "stream",
     "text": [
      "['__add__', '__class__', '__contains__', '__delattr__', '__delitem__', '__dir__', '__doc__', '__eq__', '__format__', '__ge__', '__getattribute__', '__getitem__', '__gt__', '__hash__', '__iadd__', '__imul__', '__init__', '__init_subclass__', '__iter__', '__le__', '__len__', '__lt__', '__mul__', '__ne__', '__new__', '__reduce__', '__reduce_ex__', '__repr__', '__reversed__', '__rmul__', '__setattr__', '__setitem__', '__sizeof__', '__str__', '__subclasshook__', 'append', 'clear', 'copy', 'count', 'extend', 'index', 'insert', 'pop', 'remove', 'reverse', 'sort']\n"
     ]
    }
   ],
   "source": [
    "print(dir(list))\n"
   ]
  },
  {
   "cell_type": "code",
   "execution_count": 230,
   "metadata": {
    "ExecuteTime": {
     "end_time": "2024-03-03T07:30:17.774724Z",
     "start_time": "2024-03-03T07:30:17.759782Z"
    }
   },
   "outputs": [],
   "source": [
    "l1 = [1,'abc',22,'TRC','OQ',77]\n"
   ]
  },
  {
   "cell_type": "code",
   "execution_count": 232,
   "metadata": {
    "ExecuteTime": {
     "end_time": "2024-03-03T07:30:38.396916Z",
     "start_time": "2024-03-03T07:30:38.387797Z"
    }
   },
   "outputs": [],
   "source": [
    "l1.append(55)"
   ]
  },
  {
   "cell_type": "code",
   "execution_count": 233,
   "metadata": {
    "ExecuteTime": {
     "end_time": "2024-03-03T07:30:43.085160Z",
     "start_time": "2024-03-03T07:30:43.067207Z"
    }
   },
   "outputs": [
    {
     "data": {
      "text/plain": [
       "[1, 'abc', 22, 'TRC', 'OQ', 77, 55]"
      ]
     },
     "execution_count": 233,
     "metadata": {},
     "output_type": "execute_result"
    }
   ],
   "source": [
    "l1"
   ]
  },
  {
   "cell_type": "code",
   "execution_count": 234,
   "metadata": {
    "ExecuteTime": {
     "end_time": "2024-03-03T07:31:18.117634Z",
     "start_time": "2024-03-03T07:31:18.099323Z"
    }
   },
   "outputs": [],
   "source": [
    "l1.append('name')"
   ]
  },
  {
   "cell_type": "code",
   "execution_count": 235,
   "metadata": {
    "ExecuteTime": {
     "end_time": "2024-03-03T07:31:57.579882Z",
     "start_time": "2024-03-03T07:31:57.556683Z"
    }
   },
   "outputs": [],
   "source": [
    "l1.extend('MAnsi')"
   ]
  },
  {
   "cell_type": "code",
   "execution_count": 236,
   "metadata": {
    "ExecuteTime": {
     "end_time": "2024-03-03T07:32:07.519394Z",
     "start_time": "2024-03-03T07:32:07.511183Z"
    }
   },
   "outputs": [
    {
     "data": {
      "text/plain": [
       "[1, 'abc', 22, 'TRC', 'OQ', 77, 55, 'name', 'M', 'A', 'n', 's', 'i']"
      ]
     },
     "execution_count": 236,
     "metadata": {},
     "output_type": "execute_result"
    }
   ],
   "source": [
    "l1"
   ]
  },
  {
   "cell_type": "code",
   "execution_count": 237,
   "metadata": {
    "ExecuteTime": {
     "end_time": "2024-03-03T07:32:27.302920Z",
     "start_time": "2024-03-03T07:32:27.287016Z"
    }
   },
   "outputs": [],
   "source": [
    "l1.extend(['MAnsi'])"
   ]
  },
  {
   "cell_type": "code",
   "execution_count": 238,
   "metadata": {
    "ExecuteTime": {
     "end_time": "2024-03-03T07:32:30.675183Z",
     "start_time": "2024-03-03T07:32:30.661124Z"
    }
   },
   "outputs": [
    {
     "data": {
      "text/plain": [
       "[1, 'abc', 22, 'TRC', 'OQ', 77, 55, 'name', 'M', 'A', 'n', 's', 'i', 'MAnsi']"
      ]
     },
     "execution_count": 238,
     "metadata": {},
     "output_type": "execute_result"
    }
   ],
   "source": [
    "l1 "
   ]
  },
  {
   "cell_type": "code",
   "execution_count": 240,
   "metadata": {
    "ExecuteTime": {
     "end_time": "2024-03-03T07:37:15.788681Z",
     "start_time": "2024-03-03T07:37:15.768201Z"
    }
   },
   "outputs": [],
   "source": [
    "l1.append([2,3,4])"
   ]
  },
  {
   "cell_type": "code",
   "execution_count": 241,
   "metadata": {
    "ExecuteTime": {
     "end_time": "2024-03-03T07:37:35.735708Z",
     "start_time": "2024-03-03T07:37:35.715693Z"
    }
   },
   "outputs": [
    {
     "data": {
      "text/plain": [
       "4"
      ]
     },
     "execution_count": 241,
     "metadata": {},
     "output_type": "execute_result"
    }
   ],
   "source": [
    "l1[-1][2]\n"
   ]
  },
  {
   "cell_type": "code",
   "execution_count": 242,
   "metadata": {
    "ExecuteTime": {
     "end_time": "2024-03-03T07:38:56.260908Z",
     "start_time": "2024-03-03T07:38:56.250660Z"
    }
   },
   "outputs": [
    {
     "data": {
      "text/plain": [
       "[2, 3, 4]"
      ]
     },
     "execution_count": 242,
     "metadata": {},
     "output_type": "execute_result"
    }
   ],
   "source": [
    "l1.pop()"
   ]
  },
  {
   "cell_type": "code",
   "execution_count": 243,
   "metadata": {
    "ExecuteTime": {
     "end_time": "2024-03-03T07:39:00.564752Z",
     "start_time": "2024-03-03T07:39:00.550275Z"
    }
   },
   "outputs": [
    {
     "data": {
      "text/plain": [
       "[1, 'abc', 22, 'TRC', 'OQ', 77, 55, 'name', 'M', 'A', 'n', 's', 'i', 'MAnsi']"
      ]
     },
     "execution_count": 243,
     "metadata": {},
     "output_type": "execute_result"
    }
   ],
   "source": [
    "l1 "
   ]
  },
  {
   "cell_type": "code",
   "execution_count": 245,
   "metadata": {
    "ExecuteTime": {
     "end_time": "2024-03-03T07:39:27.464531Z",
     "start_time": "2024-03-03T07:39:27.445391Z"
    }
   },
   "outputs": [
    {
     "data": {
      "text/plain": [
       "77"
      ]
     },
     "execution_count": 245,
     "metadata": {},
     "output_type": "execute_result"
    }
   ],
   "source": [
    "l1.pop(5)"
   ]
  },
  {
   "cell_type": "code",
   "execution_count": 246,
   "metadata": {
    "ExecuteTime": {
     "end_time": "2024-03-03T07:39:31.674316Z",
     "start_time": "2024-03-03T07:39:31.666331Z"
    }
   },
   "outputs": [
    {
     "data": {
      "text/plain": [
       "[1, 'abc', 22, 'TRC', 'OQ', 55, 'name', 'M', 'A', 'n', 's', 'i', 'MAnsi']"
      ]
     },
     "execution_count": 246,
     "metadata": {},
     "output_type": "execute_result"
    }
   ],
   "source": [
    "l1 "
   ]
  },
  {
   "cell_type": "code",
   "execution_count": 247,
   "metadata": {
    "ExecuteTime": {
     "end_time": "2024-03-03T07:39:59.963702Z",
     "start_time": "2024-03-03T07:39:59.949189Z"
    }
   },
   "outputs": [],
   "source": [
    "l1.insert(2,33)\n"
   ]
  },
  {
   "cell_type": "code",
   "execution_count": 248,
   "metadata": {
    "ExecuteTime": {
     "end_time": "2024-03-03T07:40:02.496771Z",
     "start_time": "2024-03-03T07:40:02.487797Z"
    }
   },
   "outputs": [
    {
     "data": {
      "text/plain": [
       "[1, 'abc', 33, 22, 'TRC', 'OQ', 55, 'name', 'M', 'A', 'n', 's', 'i', 'MAnsi']"
      ]
     },
     "execution_count": 248,
     "metadata": {},
     "output_type": "execute_result"
    }
   ],
   "source": [
    "l1 "
   ]
  },
  {
   "cell_type": "code",
   "execution_count": 249,
   "metadata": {
    "ExecuteTime": {
     "end_time": "2024-03-03T07:41:19.138097Z",
     "start_time": "2024-03-03T07:41:19.118889Z"
    }
   },
   "outputs": [
    {
     "ename": "ValueError",
     "evalue": "list.remove(x): x not in list",
     "output_type": "error",
     "traceback": [
      "\u001b[1;31m---------------------------------------------------------------------------\u001b[0m",
      "\u001b[1;31mValueError\u001b[0m                                Traceback (most recent call last)",
      "\u001b[1;32m<ipython-input-249-d147b12bc342>\u001b[0m in \u001b[0;36m<module>\u001b[1;34m\u001b[0m\n\u001b[1;32m----> 1\u001b[1;33m \u001b[0ml1\u001b[0m\u001b[1;33m.\u001b[0m\u001b[0mremove\u001b[0m\u001b[1;33m(\u001b[0m\u001b[1;33m[\u001b[0m\u001b[1;34m'aba'\u001b[0m\u001b[1;33m]\u001b[0m\u001b[1;33m)\u001b[0m\u001b[1;33m\u001b[0m\u001b[1;33m\u001b[0m\u001b[0m\n\u001b[0m",
      "\u001b[1;31mValueError\u001b[0m: list.remove(x): x not in list"
     ]
    }
   ],
   "source": [
    "l1.remove(['aba'])"
   ]
  },
  {
   "cell_type": "code",
   "execution_count": 251,
   "metadata": {
    "ExecuteTime": {
     "end_time": "2024-03-03T07:41:43.988400Z",
     "start_time": "2024-03-03T07:41:43.973621Z"
    }
   },
   "outputs": [],
   "source": [
    "l1.remove('name')"
   ]
  },
  {
   "cell_type": "code",
   "execution_count": 252,
   "metadata": {
    "ExecuteTime": {
     "end_time": "2024-03-03T07:41:47.832200Z",
     "start_time": "2024-03-03T07:41:47.820235Z"
    }
   },
   "outputs": [
    {
     "data": {
      "text/plain": [
       "[1, 'abc', 33, 22, 'TRC', 'OQ', 55, 'M', 'A', 'n', 's', 'i', 'MAnsi']"
      ]
     },
     "execution_count": 252,
     "metadata": {},
     "output_type": "execute_result"
    }
   ],
   "source": [
    "l1 "
   ]
  },
  {
   "cell_type": "code",
   "execution_count": 255,
   "metadata": {
    "ExecuteTime": {
     "end_time": "2024-03-03T07:42:25.822924Z",
     "start_time": "2024-03-03T07:42:25.805331Z"
    }
   },
   "outputs": [],
   "source": [
    "l1.insert(5,[1,2,3])"
   ]
  },
  {
   "cell_type": "code",
   "execution_count": 256,
   "metadata": {
    "ExecuteTime": {
     "end_time": "2024-03-03T07:42:28.972517Z",
     "start_time": "2024-03-03T07:42:28.962543Z"
    }
   },
   "outputs": [
    {
     "data": {
      "text/plain": [
       "[1,\n",
       " 'abc',\n",
       " 33,\n",
       " 22,\n",
       " 'TRC',\n",
       " [1, 2, 3],\n",
       " 'OQ',\n",
       " 55,\n",
       " 'M',\n",
       " 'A',\n",
       " 'n',\n",
       " 's',\n",
       " 'i',\n",
       " 'MAnsi']"
      ]
     },
     "execution_count": 256,
     "metadata": {},
     "output_type": "execute_result"
    }
   ],
   "source": [
    "l1 "
   ]
  },
  {
   "cell_type": "code",
   "execution_count": 259,
   "metadata": {
    "ExecuteTime": {
     "end_time": "2024-03-03T07:46:17.101078Z",
     "start_time": "2024-03-03T07:46:17.083671Z"
    }
   },
   "outputs": [],
   "source": [
    "l1.clear()"
   ]
  },
  {
   "cell_type": "code",
   "execution_count": 260,
   "metadata": {
    "ExecuteTime": {
     "end_time": "2024-03-03T07:46:21.391148Z",
     "start_time": "2024-03-03T07:46:21.372088Z"
    }
   },
   "outputs": [
    {
     "data": {
      "text/plain": [
       "[]"
      ]
     },
     "execution_count": 260,
     "metadata": {},
     "output_type": "execute_result"
    }
   ],
   "source": [
    "l1 "
   ]
  },
  {
   "cell_type": "code",
   "execution_count": 262,
   "metadata": {
    "ExecuteTime": {
     "end_time": "2024-03-03T07:46:43.452465Z",
     "start_time": "2024-03-03T07:46:43.443758Z"
    }
   },
   "outputs": [],
   "source": [
    "l1.insert(1,'x')"
   ]
  },
  {
   "cell_type": "code",
   "execution_count": 263,
   "metadata": {
    "ExecuteTime": {
     "end_time": "2024-03-03T07:46:46.253721Z",
     "start_time": "2024-03-03T07:46:46.238348Z"
    }
   },
   "outputs": [
    {
     "data": {
      "text/plain": [
       "['x']"
      ]
     },
     "execution_count": 263,
     "metadata": {},
     "output_type": "execute_result"
    }
   ],
   "source": [
    "l1 "
   ]
  },
  {
   "cell_type": "code",
   "execution_count": 264,
   "metadata": {
    "ExecuteTime": {
     "end_time": "2024-03-03T07:46:58.408176Z",
     "start_time": "2024-03-03T07:46:58.401471Z"
    }
   },
   "outputs": [],
   "source": [
    "l1.insert(3,'x')"
   ]
  },
  {
   "cell_type": "code",
   "execution_count": 265,
   "metadata": {
    "ExecuteTime": {
     "end_time": "2024-03-03T07:47:00.664758Z",
     "start_time": "2024-03-03T07:47:00.647799Z"
    }
   },
   "outputs": [
    {
     "data": {
      "text/plain": [
       "['x', 'x']"
      ]
     },
     "execution_count": 265,
     "metadata": {},
     "output_type": "execute_result"
    }
   ],
   "source": [
    "l1 "
   ]
  },
  {
   "cell_type": "code",
   "execution_count": 267,
   "metadata": {
    "ExecuteTime": {
     "end_time": "2024-03-03T07:47:23.063989Z",
     "start_time": "2024-03-03T07:47:23.047035Z"
    }
   },
   "outputs": [],
   "source": [
    "l1.insert(0,[1,2,3])"
   ]
  },
  {
   "cell_type": "code",
   "execution_count": 269,
   "metadata": {
    "ExecuteTime": {
     "end_time": "2024-03-03T07:51:29.028703Z",
     "start_time": "2024-03-03T07:51:29.021271Z"
    }
   },
   "outputs": [],
   "source": [
    "l1.insert(0,[1,2,3,4])"
   ]
  },
  {
   "cell_type": "code",
   "execution_count": 270,
   "metadata": {
    "ExecuteTime": {
     "end_time": "2024-03-03T07:51:38.582068Z",
     "start_time": "2024-03-03T07:51:38.563907Z"
    }
   },
   "outputs": [],
   "source": [
    "l1.append(11)"
   ]
  },
  {
   "cell_type": "code",
   "execution_count": 271,
   "metadata": {
    "ExecuteTime": {
     "end_time": "2024-03-03T07:51:42.020570Z",
     "start_time": "2024-03-03T07:51:42.002447Z"
    }
   },
   "outputs": [
    {
     "data": {
      "text/plain": [
       "[[1, 2, 3, 4], [1, 2, 3], 'x', 'x', 11]"
      ]
     },
     "execution_count": 271,
     "metadata": {},
     "output_type": "execute_result"
    }
   ],
   "source": [
    "l1 "
   ]
  },
  {
   "cell_type": "code",
   "execution_count": 272,
   "metadata": {
    "ExecuteTime": {
     "end_time": "2024-03-03T07:51:56.300811Z",
     "start_time": "2024-03-03T07:51:56.273200Z"
    }
   },
   "outputs": [
    {
     "ename": "IndexError",
     "evalue": "list index out of range",
     "output_type": "error",
     "traceback": [
      "\u001b[1;31m---------------------------------------------------------------------------\u001b[0m",
      "\u001b[1;31mIndexError\u001b[0m                                Traceback (most recent call last)",
      "\u001b[1;32m<ipython-input-272-620696edfe3c>\u001b[0m in \u001b[0;36m<module>\u001b[1;34m\u001b[0m\n\u001b[1;32m----> 1\u001b[1;33m \u001b[0ml1\u001b[0m\u001b[1;33m.\u001b[0m\u001b[0mremove\u001b[0m\u001b[1;33m(\u001b[0m\u001b[1;33m[\u001b[0m\u001b[1;36m0\u001b[0m\u001b[1;33m]\u001b[0m\u001b[1;33m[\u001b[0m\u001b[1;36m1\u001b[0m\u001b[1;33m]\u001b[0m\u001b[1;33m)\u001b[0m\u001b[1;33m\u001b[0m\u001b[1;33m\u001b[0m\u001b[0m\n\u001b[0m",
      "\u001b[1;31mIndexError\u001b[0m: list index out of range"
     ]
    }
   ],
   "source": [
    "l1.remove([0][1])"
   ]
  },
  {
   "cell_type": "code",
   "execution_count": 273,
   "metadata": {
    "ExecuteTime": {
     "end_time": "2024-03-03T07:58:05.488785Z",
     "start_time": "2024-03-03T07:58:05.468978Z"
    }
   },
   "outputs": [],
   "source": [
    "del(l1[0])"
   ]
  },
  {
   "cell_type": "code",
   "execution_count": 274,
   "metadata": {
    "ExecuteTime": {
     "end_time": "2024-03-03T07:58:10.197506Z",
     "start_time": "2024-03-03T07:58:10.187532Z"
    }
   },
   "outputs": [
    {
     "data": {
      "text/plain": [
       "[[1, 2, 3], 'x', 'x', 11]"
      ]
     },
     "execution_count": 274,
     "metadata": {},
     "output_type": "execute_result"
    }
   ],
   "source": [
    "l1 "
   ]
  },
  {
   "cell_type": "code",
   "execution_count": 275,
   "metadata": {
    "ExecuteTime": {
     "end_time": "2024-03-03T08:06:48.188735Z",
     "start_time": "2024-03-03T08:06:48.164604Z"
    }
   },
   "outputs": [
    {
     "name": "stdout",
     "output_type": "stream",
     "text": [
      "[10, 20, 30, 40, 50]\n"
     ]
    }
   ],
   "source": [
    "l = [0, 10, 20, 30, 40, 50]\n",
    "\n",
    "del l[0]\n",
    "print(l)"
   ]
  },
  {
   "cell_type": "code",
   "execution_count": 276,
   "metadata": {
    "ExecuteTime": {
     "end_time": "2024-03-03T08:06:54.860913Z",
     "start_time": "2024-03-03T08:06:54.856410Z"
    }
   },
   "outputs": [],
   "source": [
    "del l1 "
   ]
  },
  {
   "cell_type": "code",
   "execution_count": 277,
   "metadata": {
    "ExecuteTime": {
     "end_time": "2024-03-03T08:06:57.563823Z",
     "start_time": "2024-03-03T08:06:57.514858Z"
    }
   },
   "outputs": [
    {
     "ename": "NameError",
     "evalue": "name 'l1' is not defined",
     "output_type": "error",
     "traceback": [
      "\u001b[1;31m---------------------------------------------------------------------------\u001b[0m",
      "\u001b[1;31mNameError\u001b[0m                                 Traceback (most recent call last)",
      "\u001b[1;32m<ipython-input-277-650a20cb224f>\u001b[0m in \u001b[0;36m<module>\u001b[1;34m\u001b[0m\n\u001b[1;32m----> 1\u001b[1;33m \u001b[0ml1\u001b[0m\u001b[1;33m\u001b[0m\u001b[1;33m\u001b[0m\u001b[0m\n\u001b[0m",
      "\u001b[1;31mNameError\u001b[0m: name 'l1' is not defined"
     ]
    }
   ],
   "source": [
    "l1 "
   ]
  },
  {
   "cell_type": "code",
   "execution_count": null,
   "metadata": {},
   "outputs": [],
   "source": []
  }
 ],
 "metadata": {
  "kernelspec": {
   "display_name": "Python 3",
   "language": "python",
   "name": "python3"
  },
  "language_info": {
   "codemirror_mode": {
    "name": "ipython",
    "version": 3
   },
   "file_extension": ".py",
   "mimetype": "text/x-python",
   "name": "python",
   "nbconvert_exporter": "python",
   "pygments_lexer": "ipython3",
   "version": "3.7.6"
  }
 },
 "nbformat": 4,
 "nbformat_minor": 4
}
