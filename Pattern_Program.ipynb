{
 "cells": [
  {
   "cell_type": "code",
   "execution_count": null,
   "metadata": {
    "ExecuteTime": {
     "start_time": "2024-02-01T12:58:12.709Z"
    }
   },
   "outputs": [],
   "source": [
    "#1.print '*' n number of times in a raw\n",
    "\n",
    "n = int(input('Enter numbers'))\n",
    "for i in range(n):\n",
    "    print('*',end=' ')"
   ]
  },
  {
   "cell_type": "code",
   "execution_count": 1,
   "metadata": {
    "ExecuteTime": {
     "end_time": "2024-02-01T13:03:36.394134Z",
     "start_time": "2024-02-01T13:03:34.196361Z"
    }
   },
   "outputs": [
    {
     "name": "stdout",
     "output_type": "stream",
     "text": [
      "Enter number of rows5\n",
      "*****\n",
      "*****\n",
      "*****\n",
      "*****\n",
      "*****\n"
     ]
    }
   ],
   "source": [
    "#2. Print square with '*'\n",
    "n = int(input('Enter number of rows'))\n",
    "for i in range(n):\n",
    "    print('*' * n)\n",
    "    "
   ]
  },
  {
   "cell_type": "code",
   "execution_count": 3,
   "metadata": {
    "ExecuteTime": {
     "end_time": "2024-02-01T13:08:06.618686Z",
     "start_time": "2024-02-01T13:08:04.706992Z"
    }
   },
   "outputs": [
    {
     "name": "stdout",
     "output_type": "stream",
     "text": [
      "enter number of rows5\n",
      "5 5 5 5 5 \n",
      "5 5 5 5 5 \n",
      "5 5 5 5 5 \n",
      "5 5 5 5 5 \n",
      "5 5 5 5 5 \n"
     ]
    }
   ],
   "source": [
    "#3.Print square with '5'\n",
    "n = int(input('enter number of rows'))\n",
    "for i in range(n):\n",
    "    print((str(n)+\" \")* n)"
   ]
  },
  {
   "cell_type": "code",
   "execution_count": 5,
   "metadata": {
    "ExecuteTime": {
     "end_time": "2024-02-01T13:19:04.115602Z",
     "start_time": "2024-02-01T13:19:02.677661Z"
    }
   },
   "outputs": [
    {
     "name": "stdout",
     "output_type": "stream",
     "text": [
      "enter number of rows4\n",
      "1 1 1 1 \n",
      "2 2 2 2 \n",
      "3 3 3 3 \n",
      "4 4 4 4 \n"
     ]
    }
   ],
   "source": [
    "#4. square pattern with provided fixed digit in every row\n",
    "n = int(input('enter number of rows'))\n",
    "for i in range(n):\n",
    "    print((str(i+1)+' ')*n)"
   ]
  },
  {
   "cell_type": "code",
   "execution_count": 6,
   "metadata": {
    "ExecuteTime": {
     "end_time": "2024-02-01T13:22:29.478681Z",
     "start_time": "2024-02-01T13:22:28.214400Z"
    }
   },
   "outputs": [
    {
     "name": "stdout",
     "output_type": "stream",
     "text": [
      "enter number of rows4\n",
      "A A A A \n",
      "A A A A \n",
      "A A A A \n",
      "A A A A \n"
     ]
    }
   ],
   "source": [
    "#5 . to print square pattern with fixed alphabet symbol\n",
    "n = int(input('enter number of rows'))\n",
    "for i in range(n):\n",
    "    print(('A ')*n)"
   ]
  },
  {
   "cell_type": "code",
   "execution_count": 8,
   "metadata": {
    "ExecuteTime": {
     "end_time": "2024-02-01T13:40:49.050321Z",
     "start_time": "2024-02-01T13:40:47.121813Z"
    }
   },
   "outputs": [
    {
     "name": "stdout",
     "output_type": "stream",
     "text": [
      "enter number of rows5\n"
     ]
    }
   ],
   "source": [
    "# 4. square pattern with provided fixed digit in every row\n",
    "n = int(input('enter number of rows'))\n",
    "for i in range(0,n,-1):\n",
    "    print((str(i+1)+' ')*n)"
   ]
  },
  {
   "cell_type": "code",
   "execution_count": 1,
   "metadata": {
    "ExecuteTime": {
     "end_time": "2024-02-01T13:49:04.766218Z",
     "start_time": "2024-02-01T13:49:02.011408Z"
    }
   },
   "outputs": [
    {
     "name": "stdout",
     "output_type": "stream",
     "text": [
      "enter number of rows3\n",
      "1 2 3 \n",
      "1 2 3 \n",
      "1 2 3 \n"
     ]
    }
   ],
   "source": [
    "#5.\n",
    "n = int(input('enter number of rows'))\n",
    "for i in range(n):\n",
    "    for j in range(n):\n",
    "        print(j+1,end= ' ')\n",
    "    print('')"
   ]
  },
  {
   "cell_type": "code",
   "execution_count": 3,
   "metadata": {
    "ExecuteTime": {
     "end_time": "2024-02-01T13:53:24.108529Z",
     "start_time": "2024-02-01T13:53:22.369931Z"
    }
   },
   "outputs": [
    {
     "name": "stdout",
     "output_type": "stream",
     "text": [
      "enter number of rows3\n",
      "A B C \n",
      "A B C \n",
      "A B C \n"
     ]
    }
   ],
   "source": [
    "#6. \n",
    "n = int(input('enter number of rows'))\n",
    "for i in range(n):\n",
    "    for j in range(n):\n",
    "        print(chr(65+j),end=' ')\n",
    "    print()"
   ]
  },
  {
   "cell_type": "code",
   "execution_count": 6,
   "metadata": {
    "ExecuteTime": {
     "end_time": "2024-02-01T14:00:15.611920Z",
     "start_time": "2024-02-01T14:00:12.807007Z"
    }
   },
   "outputs": [
    {
     "name": "stdout",
     "output_type": "stream",
     "text": [
      "enter number of rows3\n",
      "3 3 3 \n",
      "2 2 2 \n",
      "1 1 1 \n"
     ]
    }
   ],
   "source": [
    "#7.\n",
    "n = int(input('enter number of rows'))\n",
    "for i in range(n):\n",
    "    print((str(n-i)+' ')*n)\n"
   ]
  },
  {
   "cell_type": "code",
   "execution_count": 12,
   "metadata": {
    "ExecuteTime": {
     "end_time": "2024-02-01T14:06:40.704819Z",
     "start_time": "2024-02-01T14:06:38.534508Z"
    }
   },
   "outputs": [
    {
     "name": "stdout",
     "output_type": "stream",
     "text": [
      "enter number of rows3\n",
      "3 3 3 \n",
      "2 2 2 \n",
      "1 1 1 \n"
     ]
    }
   ],
   "source": [
    "#8.\n",
    "n = int(input('enter number of rows'))\n",
    "for i in range(n):\n",
    "    for j in range(n):\n",
    "        print(str(n-i),end=' ')\n",
    "    print()\n"
   ]
  },
  {
   "cell_type": "code",
   "execution_count": 14,
   "metadata": {
    "ExecuteTime": {
     "end_time": "2024-02-01T14:06:49.269597Z",
     "start_time": "2024-02-01T14:06:47.609827Z"
    }
   },
   "outputs": [
    {
     "name": "stdout",
     "output_type": "stream",
     "text": [
      "enter number of rows5\n",
      "\n",
      "4 \n",
      "3 3 \n",
      "2 2 2 \n",
      "1 1 1 1 \n"
     ]
    }
   ],
   "source": [
    "#9.\n",
    "n = int(input('enter number of rows'))\n",
    "for i in range(n):\n",
    "    for j in range(i):\n",
    "        print(str(n-i),end=' ')\n",
    "    print()"
   ]
  },
  {
   "cell_type": "code",
   "execution_count": 20,
   "metadata": {
    "ExecuteTime": {
     "end_time": "2024-02-01T14:24:43.383138Z",
     "start_time": "2024-02-01T14:24:41.039982Z"
    }
   },
   "outputs": [
    {
     "name": "stdout",
     "output_type": "stream",
     "text": [
      "enter number of rows3\n",
      "CCC\n",
      "BBB\n",
      "AAA\n"
     ]
    }
   ],
   "source": [
    "#10. reverse alphabet pattern\n",
    "n = int(input('enter number of rows'))\n",
    "for i in range(n):\n",
    "    print(chr(64+n-i) * n)"
   ]
  },
  {
   "cell_type": "code",
   "execution_count": 22,
   "metadata": {
    "ExecuteTime": {
     "end_time": "2024-02-01T14:29:32.072306Z",
     "start_time": "2024-02-01T14:29:30.854247Z"
    }
   },
   "outputs": [
    {
     "name": "stdout",
     "output_type": "stream",
     "text": [
      "enter number of rows3\n",
      "3 2 1 \n",
      "3 2 1 \n",
      "3 2 1 \n"
     ]
    }
   ],
   "source": [
    "#11.\n",
    "n = int(input('enter number of rows'))\n",
    "for i in range(n):\n",
    "    for j in range(n):\n",
    "       print(n-j,end=' ') \n",
    "    print()"
   ]
  },
  {
   "cell_type": "code",
   "execution_count": 24,
   "metadata": {
    "ExecuteTime": {
     "end_time": "2024-02-01T14:33:39.589718Z",
     "start_time": "2024-02-01T14:33:37.510752Z"
    }
   },
   "outputs": [
    {
     "name": "stdout",
     "output_type": "stream",
     "text": [
      "enter number of rows4\n",
      "D C B A \n",
      "D C B A \n",
      "D C B A \n",
      "D C B A \n"
     ]
    }
   ],
   "source": [
    "#12.\n",
    "n = int(input('enter number of rows'))\n",
    "for i in range(n):\n",
    "    for j in range(n):\n",
    "       print(chr(64+n-j),end=' ') \n",
    "    print()"
   ]
  },
  {
   "cell_type": "code",
   "execution_count": 25,
   "metadata": {
    "ExecuteTime": {
     "end_time": "2024-02-01T14:38:19.693952Z",
     "start_time": "2024-02-01T14:38:18.207014Z"
    },
    "scrolled": true
   },
   "outputs": [
    {
     "name": "stdout",
     "output_type": "stream",
     "text": [
      "enter number of rows4\n",
      "****\n",
      "***\n",
      "**\n",
      "*\n"
     ]
    }
   ],
   "source": [
    "#13. Inverted right angle triangle\n",
    "n = int(input('enter number of rows'))\n",
    "for i in range(n):\n",
    "    print((n-i)*'*')\n",
    "\n"
   ]
  },
  {
   "cell_type": "markdown",
   "metadata": {},
   "source": [
    "# important points in patterns\n",
    "1. How many symbols\n",
    "2. which symbol\n",
    "3. No of symbols in each row\n",
    "4. If space than no of spaces\n"
   ]
  },
  {
   "cell_type": "code",
   "execution_count": 30,
   "metadata": {
    "ExecuteTime": {
     "end_time": "2024-02-01T14:48:15.776454Z",
     "start_time": "2024-02-01T14:48:14.657863Z"
    }
   },
   "outputs": [
    {
     "name": "stdout",
     "output_type": "stream",
     "text": [
      "enter number of rows3\n",
      "1 2 3 \n",
      "1 2 \n",
      "1 \n"
     ]
    }
   ],
   "source": [
    "#14.\n",
    "n = int(input('enter number of rows'))\n",
    "for i in range(n):\n",
    "    for j in range(n-i):\n",
    "        print(str(j+1),end=' ')\n",
    "    print()\n"
   ]
  },
  {
   "cell_type": "code",
   "execution_count": 31,
   "metadata": {
    "ExecuteTime": {
     "end_time": "2024-02-01T14:59:34.866021Z",
     "start_time": "2024-02-01T14:59:33.080731Z"
    }
   },
   "outputs": [
    {
     "name": "stdout",
     "output_type": "stream",
     "text": [
      "enter number of rows4\n",
      "   1 \n",
      "  2 2 \n",
      " 3 3 3 \n",
      "4 4 4 4 \n"
     ]
    }
   ],
   "source": [
    "#15.Print pyramid with fixed digit in every row\n",
    "n = int(input('enter number of rows'))\n",
    "for i in range(n):\n",
    "    print(' '*(n-i-1) + (str(i+1)+' ')*(i+1))\n"
   ]
  },
  {
   "cell_type": "code",
   "execution_count": 34,
   "metadata": {
    "ExecuteTime": {
     "end_time": "2024-02-01T15:08:33.654285Z",
     "start_time": "2024-02-01T15:08:31.611336Z"
    }
   },
   "outputs": [
    {
     "name": "stdout",
     "output_type": "stream",
     "text": [
      "enter number of rows26\n",
      "                         Z \n",
      "                        Z Y \n",
      "                       Z Y X \n",
      "                      Z Y X W \n",
      "                     Z Y X W V \n",
      "                    Z Y X W V U \n",
      "                   Z Y X W V U T \n",
      "                  Z Y X W V U T S \n",
      "                 Z Y X W V U T S R \n",
      "                Z Y X W V U T S R Q \n",
      "               Z Y X W V U T S R Q P \n",
      "              Z Y X W V U T S R Q P O \n",
      "             Z Y X W V U T S R Q P O N \n",
      "            Z Y X W V U T S R Q P O N M \n",
      "           Z Y X W V U T S R Q P O N M L \n",
      "          Z Y X W V U T S R Q P O N M L K \n",
      "         Z Y X W V U T S R Q P O N M L K J \n",
      "        Z Y X W V U T S R Q P O N M L K J I \n",
      "       Z Y X W V U T S R Q P O N M L K J I H \n",
      "      Z Y X W V U T S R Q P O N M L K J I H G \n",
      "     Z Y X W V U T S R Q P O N M L K J I H G F \n",
      "    Z Y X W V U T S R Q P O N M L K J I H G F E \n",
      "   Z Y X W V U T S R Q P O N M L K J I H G F E D \n",
      "  Z Y X W V U T S R Q P O N M L K J I H G F E D C \n",
      " Z Y X W V U T S R Q P O N M L K J I H G F E D C B \n",
      "Z Y X W V U T S R Q P O N M L K J I H G F E D C B A \n"
     ]
    }
   ],
   "source": [
    "#16. Pyramid pattern with alphabet symbols in reverse of dictionary order\n",
    "n = int(input('enter number of rows'))\n",
    "for i in range(n):\n",
    "    print(' '*(n-i-1),end='')\n",
    "    for j in range(i+1):\n",
    "        print(chr(64+n-j),end=' ')\n",
    "    print()\n",
    "         "
   ]
  },
  {
   "cell_type": "code",
   "execution_count": 44,
   "metadata": {
    "ExecuteTime": {
     "end_time": "2024-02-01T15:20:20.607493Z",
     "start_time": "2024-02-01T15:20:19.253667Z"
    }
   },
   "outputs": [
    {
     "name": "stdout",
     "output_type": "stream",
     "text": [
      "enter number of rows4\n",
      "A\n",
      "AB\n",
      "ABC\n",
      "ABCD\n",
      "ABC\n",
      "AB\n",
      "A\n"
     ]
    }
   ],
   "source": [
    "#17. Right half diamond using alphabet\n",
    "n = int(input('enter number of rows'))\n",
    "for i in range(n):\n",
    "    for j in range(i+1):\n",
    "        print((chr(65+j)),end='')\n",
    "    print()\n",
    "for i in range(n-1):\n",
    "    for j in range(n-i-1):\n",
    "        print(chr(65+j),end='')\n",
    "    print()\n",
    "        \n",
    "    \n",
    "         \n"
   ]
  },
  {
   "cell_type": "code",
   "execution_count": 5,
   "metadata": {
    "ExecuteTime": {
     "end_time": "2024-02-01T13:32:28.217260Z",
     "start_time": "2024-02-01T13:32:26.630738Z"
    }
   },
   "outputs": [
    {
     "name": "stdout",
     "output_type": "stream",
     "text": [
      "enter number of rows4\n",
      "A\n",
      "BB\n",
      "CCC\n",
      "DDDD\n"
     ]
    }
   ],
   "source": [
    "#18. Right Angle Triangle pattern with fixed alphabet symbol\n",
    "n = int(input('enter number of rows'))\n",
    "for i in range(n):\n",
    "    print((chr(65+i))*(i+1))\n",
    "\n",
    "#print(chr(65))"
   ]
  },
  {
   "cell_type": "code",
   "execution_count": 46,
   "metadata": {
    "ExecuteTime": {
     "end_time": "2024-02-01T15:28:07.486418Z",
     "start_time": "2024-02-01T15:28:02.424893Z"
    }
   },
   "outputs": [
    {
     "name": "stdout",
     "output_type": "stream",
     "text": [
      "enter number of rows26\n",
      " A B C D E F G H I J K L M N O P Q R S T U V W X Y Z \n",
      "  A B C D E F G H I J K L M N O P Q R S T U V W X Y \n",
      "   A B C D E F G H I J K L M N O P Q R S T U V W X \n",
      "    A B C D E F G H I J K L M N O P Q R S T U V W \n",
      "     A B C D E F G H I J K L M N O P Q R S T U V \n",
      "      A B C D E F G H I J K L M N O P Q R S T U \n",
      "       A B C D E F G H I J K L M N O P Q R S T \n",
      "        A B C D E F G H I J K L M N O P Q R S \n",
      "         A B C D E F G H I J K L M N O P Q R \n",
      "          A B C D E F G H I J K L M N O P Q \n",
      "           A B C D E F G H I J K L M N O P \n",
      "            A B C D E F G H I J K L M N O \n",
      "             A B C D E F G H I J K L M N \n",
      "              A B C D E F G H I J K L M \n",
      "               A B C D E F G H I J K L \n",
      "                A B C D E F G H I J K \n",
      "                 A B C D E F G H I J \n",
      "                  A B C D E F G H I \n",
      "                   A B C D E F G H \n",
      "                    A B C D E F G \n",
      "                     A B C D E F \n",
      "                      A B C D E \n",
      "                       A B C D \n",
      "                        A B C \n",
      "                         A B \n",
      "                          A \n"
     ]
    }
   ],
   "source": [
    "#19.To print Inverted Pyramid Pattern with alphabet symbols in dictionary order\n",
    "n = int(input('enter number of rows'))\n",
    "for i in range(n):\n",
    "    print(' '*i,end=' ')\n",
    "    for j in range(n-i):\n",
    "        print(chr(65+j),end=' ')\n",
    "    print()"
   ]
  },
  {
   "cell_type": "code",
   "execution_count": 51,
   "metadata": {
    "ExecuteTime": {
     "end_time": "2024-02-01T15:45:01.186328Z",
     "start_time": "2024-02-01T15:44:59.786485Z"
    }
   },
   "outputs": [
    {
     "name": "stdout",
     "output_type": "stream",
     "text": [
      "enter number of rows4\n",
      "   * \n",
      "  * * \n",
      " * * * \n",
      "* * * * \n",
      " * * * \n",
      "  * * \n",
      "   * \n"
     ]
    }
   ],
   "source": [
    "#20. To print Diamond Pattern with * symbols\n",
    "n = int(input('enter number of rows'))\n",
    "for i in range(n):\n",
    "    print((' '*(n-i-1))+('* '*(i+1)))\n",
    "for i in range(n-1):\n",
    "    print((' '*(i+1))+('* '*(n-i-1)))"
   ]
  },
  {
   "cell_type": "code",
   "execution_count": 53,
   "metadata": {
    "ExecuteTime": {
     "end_time": "2024-02-01T15:56:01.615530Z",
     "start_time": "2024-02-01T15:56:00.269237Z"
    }
   },
   "outputs": [
    {
     "name": "stdout",
     "output_type": "stream",
     "text": [
      "enter number of rows4\n",
      "*\n",
      "**\n",
      "***\n",
      "****\n",
      "***\n",
      "**\n",
      "*\n"
     ]
    }
   ],
   "source": [
    "#21.To print Right Half Diamond Pattern with *\n",
    "n = int(input('enter number of rows'))\n",
    "for i in range(n):\n",
    "    print('*'*(i+1))\n",
    "for i in range(n-1):\n",
    "    print('*'*(n-i-1))\n"
   ]
  },
  {
   "cell_type": "code",
   "execution_count": 57,
   "metadata": {
    "ExecuteTime": {
     "end_time": "2024-02-01T16:04:15.260783Z",
     "start_time": "2024-02-01T16:04:13.893571Z"
    }
   },
   "outputs": [
    {
     "name": "stdout",
     "output_type": "stream",
     "text": [
      "enter number of rows5\n",
      "    *\n",
      "   **\n",
      "  ***\n",
      " ****\n",
      "*****\n",
      " ****\n",
      "  ***\n",
      "   **\n",
      "    *\n",
      "     \n"
     ]
    }
   ],
   "source": [
    "#22.To print Left Half Diamond Pattern with * symbols\n",
    "n = int(input('enter number of rows'))\n",
    "for i in range(n):\n",
    "    print((\" \"*(n-i-1))+(\"*\"*(i+1)))\n",
    "for i in range(n):\n",
    "    print((\" \"*(i+1))+(\"*\"*(n-i-1)))"
   ]
  },
  {
   "cell_type": "code",
   "execution_count": 5,
   "metadata": {
    "ExecuteTime": {
     "end_time": "2024-02-01T16:28:58.450889Z",
     "start_time": "2024-02-01T16:28:56.875603Z"
    }
   },
   "outputs": [
    {
     "name": "stdout",
     "output_type": "stream",
     "text": [
      "enter number of rows4\n",
      "   *\n",
      "  * *\n",
      " *   *\n",
      "*     *\n"
     ]
    }
   ],
   "source": [
    "#23. To print Top Half Hallow Diamond Pattern with * symbols\n",
    "n = int(input('enter number of rows'))\n",
    "for i in range(n):\n",
    "    print((\" \"*(n-i-1))+\"*\",end='')\n",
    "    if i>=1:\n",
    "        print(\" \"*(2*i-1)+'*',end='')\n",
    "    print()\n"
   ]
  },
  {
   "cell_type": "code",
   "execution_count": 14,
   "metadata": {
    "ExecuteTime": {
     "end_time": "2024-02-01T16:54:17.842064Z",
     "start_time": "2024-02-01T16:54:16.571054Z"
    }
   },
   "outputs": [
    {
     "name": "stdout",
     "output_type": "stream",
     "text": [
      "enter number of rows4\n",
      "*     *\n",
      " *   *\n",
      "  * *\n",
      "   *\n"
     ]
    }
   ],
   "source": [
    "#24.To print bottom Half Hallow Diamond Pattern with * symbols\n",
    "n = int(input('enter number of rows'))\n",
    "for i in range(n):\n",
    "    print(\" \"*i+\"*\",end='')\n",
    "    if i!=(n-1):\n",
    "        print((\" \"*(n+1-2*i))+'*',end='')\n",
    "    print()"
   ]
  },
  {
   "cell_type": "code",
   "execution_count": 20,
   "metadata": {
    "ExecuteTime": {
     "end_time": "2024-02-01T16:59:27.667876Z",
     "start_time": "2024-02-01T16:59:26.560572Z"
    }
   },
   "outputs": [
    {
     "name": "stdout",
     "output_type": "stream",
     "text": [
      "enter number of rows5\n",
      "A              A\n",
      "  B          B\n",
      "    C      C\n",
      "      D  D\n",
      "        E  \n"
     ]
    }
   ],
   "source": [
    "#25.To print Bottom Half Hollw Diamond Pattern with aplhabet symbols in reverse\n",
    "n = int(input('enter number of rows'))\n",
    "for i in range(n):\n",
    "    print(\"  \"*i+chr(65+i)+'  ',end='')\n",
    "    if i!=(n-1):\n",
    "        print((\"  \"*(n+1-2*i))+chr(65+i),end='')\n",
    "    print()"
   ]
  },
  {
   "cell_type": "code",
   "execution_count": 34,
   "metadata": {
    "ExecuteTime": {
     "end_time": "2024-02-01T17:19:12.582914Z",
     "start_time": "2024-02-01T17:19:11.451746Z"
    }
   },
   "outputs": [
    {
     "name": "stdout",
     "output_type": "stream",
     "text": [
      "enter number of rows5\n",
      "    1\n",
      "   12\n",
      "  123\n",
      " 1234\n",
      "12345\n",
      " \n",
      "  1\n",
      "   12\n",
      "    123\n"
     ]
    }
   ],
   "source": [
    "#26.To print Left Half Diamond Pattern with digits in ascending order\n",
    "n = int(input('enter number of rows'))\n",
    "for i in range(n):\n",
    "    print(\" \"*(n-i-1),end='')\n",
    "    for j in range(i+1):\n",
    "        print(j+1,end='')\n",
    "    print()\n",
    "\n",
    "for i in range(n-1):\n",
    "    print(\" \"*(i+1),end='')\n",
    "    for j in range(i):\n",
    "        print(j+1,end='')\n",
    "    print()\n",
    "    \n"
   ]
  },
  {
   "cell_type": "code",
   "execution_count": null,
   "metadata": {},
   "outputs": [],
   "source": []
  }
 ],
 "metadata": {
  "kernelspec": {
   "display_name": "Python 3",
   "language": "python",
   "name": "python3"
  },
  "language_info": {
   "codemirror_mode": {
    "name": "ipython",
    "version": 3
   },
   "file_extension": ".py",
   "mimetype": "text/x-python",
   "name": "python",
   "nbconvert_exporter": "python",
   "pygments_lexer": "ipython3",
   "version": "3.7.6"
  }
 },
 "nbformat": 4,
 "nbformat_minor": 4
}
