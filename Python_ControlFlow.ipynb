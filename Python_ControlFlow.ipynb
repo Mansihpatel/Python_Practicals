{
 "cells": [
  {
   "cell_type": "code",
   "execution_count": 3,
   "metadata": {
    "ExecuteTime": {
     "end_time": "2024-01-17T17:57:17.713312Z",
     "start_time": "2024-01-17T17:57:17.689476Z"
    }
   },
   "outputs": [],
   "source": [
    "#If\n",
    "#else\n",
    "#elif"
   ]
  },
  {
   "cell_type": "code",
   "execution_count": 4,
   "metadata": {
    "ExecuteTime": {
     "end_time": "2024-01-17T17:57:20.043809Z",
     "start_time": "2024-01-17T17:57:19.980970Z"
    }
   },
   "outputs": [
    {
     "name": "stdout",
     "output_type": "stream",
     "text": [
      "False condition\n"
     ]
    }
   ],
   "source": [
    "if False:\n",
    "    print('True condition')\n",
    "else:\n",
    "    print('False condition')"
   ]
  },
  {
   "cell_type": "code",
   "execution_count": 5,
   "metadata": {
    "ExecuteTime": {
     "end_time": "2024-01-17T18:00:16.070361Z",
     "start_time": "2024-01-17T18:00:15.968795Z"
    }
   },
   "outputs": [
    {
     "name": "stdout",
     "output_type": "stream",
     "text": [
      "True condition\n"
     ]
    }
   ],
   "source": [
    "if ' ':\n",
    "    print('True condition')\n",
    "else:\n",
    "    print('False condition')"
   ]
  },
  {
   "cell_type": "code",
   "execution_count": 6,
   "metadata": {
    "ExecuteTime": {
     "end_time": "2024-01-17T18:03:01.409461Z",
     "start_time": "2024-01-17T18:03:01.274300Z"
    }
   },
   "outputs": [
    {
     "name": "stdout",
     "output_type": "stream",
     "text": [
      "True condition\n"
     ]
    }
   ],
   "source": [
    "if True:\n",
    "    print('True condition')\n",
    "elif False:\n",
    "    print('False condition')\n",
    "else:\n",
    "    print('False condition')"
   ]
  },
  {
   "cell_type": "code",
   "execution_count": 7,
   "metadata": {
    "ExecuteTime": {
     "end_time": "2024-01-17T18:08:31.621886Z",
     "start_time": "2024-01-17T18:08:31.612792Z"
    }
   },
   "outputs": [
    {
     "name": "stdout",
     "output_type": "stream",
     "text": [
      "False Condition\n"
     ]
    }
   ],
   "source": [
    "if False:\n",
    "    print('True Condition')\n",
    "elif True:\n",
    "    print('False Condition')\n",
    "else:\n",
    "    print('False condition')\n",
    "    "
   ]
  },
  {
   "cell_type": "code",
   "execution_count": 8,
   "metadata": {
    "ExecuteTime": {
     "end_time": "2024-01-17T18:08:38.771143Z",
     "start_time": "2024-01-17T18:08:38.764113Z"
    }
   },
   "outputs": [],
   "source": [
    "#nested "
   ]
  },
  {
   "cell_type": "code",
   "execution_count": 9,
   "metadata": {
    "ExecuteTime": {
     "end_time": "2024-01-17T18:11:27.370817Z",
     "start_time": "2024-01-17T18:11:27.358799Z"
    }
   },
   "outputs": [
    {
     "name": "stdout",
     "output_type": "stream",
     "text": [
      "True condition\n"
     ]
    }
   ],
   "source": [
    "if True:\n",
    "    if True:\n",
    "        print('True condition')\n",
    "    else:\n",
    "        print('False condition')\n",
    "else:\n",
    "    print('else')"
   ]
  },
  {
   "cell_type": "code",
   "execution_count": 10,
   "metadata": {
    "ExecuteTime": {
     "end_time": "2024-01-17T18:12:17.984525Z",
     "start_time": "2024-01-17T18:12:17.967628Z"
    }
   },
   "outputs": [
    {
     "name": "stdout",
     "output_type": "stream",
     "text": [
      "else\n"
     ]
    }
   ],
   "source": [
    "if False:\n",
    "    if True:\n",
    "        print('True condition')\n",
    "    else:\n",
    "        print('Else condition')\n",
    "else:\n",
    "    print('else')"
   ]
  },
  {
   "cell_type": "code",
   "execution_count": 11,
   "metadata": {
    "ExecuteTime": {
     "end_time": "2024-01-17T18:16:12.246252Z",
     "start_time": "2024-01-17T18:16:12.229711Z"
    }
   },
   "outputs": [
    {
     "name": "stdout",
     "output_type": "stream",
     "text": [
      "True Condition\n"
     ]
    }
   ],
   "source": [
    "if True:\n",
    "    if True:\n",
    "        print('True Condition')\n",
    "    else:\n",
    "        print('False Condition')\n",
    "else:\n",
    "    print('Else condition')\n",
    "    "
   ]
  },
  {
   "cell_type": "code",
   "execution_count": 12,
   "metadata": {
    "ExecuteTime": {
     "end_time": "2024-01-17T18:16:33.879042Z",
     "start_time": "2024-01-17T18:16:33.868179Z"
    }
   },
   "outputs": [
    {
     "name": "stdout",
     "output_type": "stream",
     "text": [
      "False Condition\n"
     ]
    }
   ],
   "source": [
    "if True:\n",
    "    if False:\n",
    "        print('True Condition')\n",
    "    else:\n",
    "        print('False Condition')\n",
    "else:\n",
    "    print('Else condition')"
   ]
  },
  {
   "cell_type": "code",
   "execution_count": 13,
   "metadata": {
    "ExecuteTime": {
     "end_time": "2024-01-17T18:24:31.538614Z",
     "start_time": "2024-01-17T18:24:31.508332Z"
    }
   },
   "outputs": [
    {
     "name": "stdout",
     "output_type": "stream",
     "text": [
      "nested else\n"
     ]
    }
   ],
   "source": [
    "if False:\n",
    "    if True:\n",
    "        print('nested if')\n",
    "    else:\n",
    "        print('nested else')\n",
    "else:\n",
    "    if False:\n",
    "        print('nested if')\n",
    "    else:\n",
    "        print('nested else')"
   ]
  },
  {
   "cell_type": "code",
   "execution_count": 17,
   "metadata": {
    "ExecuteTime": {
     "end_time": "2024-01-17T18:28:18.200488Z",
     "start_time": "2024-01-17T18:28:18.177151Z"
    }
   },
   "outputs": [
    {
     "name": "stdout",
     "output_type": "stream",
     "text": [
      "elif condition\n"
     ]
    }
   ],
   "source": [
    "if False:\n",
    "    print('False condition')\n",
    "elif True:\n",
    "    print('elif condition')\n",
    "else:\n",
    "    print('Else condition')"
   ]
  },
  {
   "cell_type": "code",
   "execution_count": 19,
   "metadata": {
    "ExecuteTime": {
     "end_time": "2024-01-17T18:34:41.292629Z",
     "start_time": "2024-01-17T18:34:41.277942Z"
    }
   },
   "outputs": [
    {
     "name": "stdout",
     "output_type": "stream",
     "text": [
      "x is less than 2\n"
     ]
    }
   ],
   "source": [
    "#elif example\n",
    "x = -2\n",
    "if x==5:\n",
    "    print('x is 5')\n",
    "elif x<=2:\n",
    "    print('x is less than 2')\n",
    "elif x<=5:\n",
    "    print('x is less than 5')\n",
    "else:\n",
    "    print('x is greater than 5')"
   ]
  },
  {
   "cell_type": "markdown",
   "metadata": {},
   "source": [
    "# Programs"
   ]
  },
  {
   "cell_type": "code",
   "execution_count": 20,
   "metadata": {
    "ExecuteTime": {
     "end_time": "2024-01-17T19:00:59.503866Z",
     "start_time": "2024-01-17T19:00:55.793504Z"
    }
   },
   "outputs": [
    {
     "name": "stdout",
     "output_type": "stream",
     "text": [
      "Enter the age15\n",
      "Person is not eligible\n"
     ]
    }
   ],
   "source": [
    "#1 Write a program to check whether a person is eligible for voting or not \n",
    "\n",
    "age = int(input('Enter the age'))\n",
    "\n",
    "if age>=18:\n",
    "    print('Person is eligible for voting')\n",
    "else:\n",
    "    print('Person is not eligible')\n",
    "\n"
   ]
  },
  {
   "cell_type": "code",
   "execution_count": 21,
   "metadata": {
    "ExecuteTime": {
     "end_time": "2024-01-17T19:04:23.323385Z",
     "start_time": "2024-01-17T19:04:20.442873Z"
    }
   },
   "outputs": [
    {
     "name": "stdout",
     "output_type": "stream",
     "text": [
      "Enter the number34\n",
      "Number is even\n"
     ]
    }
   ],
   "source": [
    "#2.check whether the number is odd or even\n",
    "\n",
    "number = int(input('Enter the number'))\n",
    "\n",
    "if number%2 ==0:\n",
    "    print('Number is even')\n",
    "else:\n",
    "    print('Number is odd')"
   ]
  },
  {
   "cell_type": "code",
   "execution_count": 22,
   "metadata": {
    "ExecuteTime": {
     "end_time": "2024-01-17T19:14:14.035435Z",
     "start_time": "2024-01-17T19:13:47.644991Z"
    }
   },
   "outputs": [
    {
     "name": "stdout",
     "output_type": "stream",
     "text": [
      "Enter the number12\n",
      "number is not divisable by 7\n"
     ]
    }
   ],
   "source": [
    "#3.check whether the number is divisable by 7 or not\n",
    "\n",
    "number = int(input('Enter the number'))\n",
    "\n",
    "if number%7 == 0:\n",
    "    print('number is divisable by 7')\n",
    "else:\n",
    "    print('number is not divisable by 7')"
   ]
  },
  {
   "cell_type": "code",
   "execution_count": 24,
   "metadata": {
    "ExecuteTime": {
     "end_time": "2024-01-17T19:18:19.504957Z",
     "start_time": "2024-01-17T19:18:17.853176Z"
    }
   },
   "outputs": [
    {
     "name": "stdout",
     "output_type": "stream",
     "text": [
      "Enter the number50\n",
      "Hello\n"
     ]
    }
   ],
   "source": [
    "#4. Write a program to display 'Hello' if a number entered by user is multiple of five, otherwise print 'Bye'.\n",
    "\n",
    "number = int(input('Enter the number'))\n",
    "\n",
    "if number%5==0:\n",
    "    print('Hello')\n",
    "else:\n",
    "    print('Bye')"
   ]
  },
  {
   "cell_type": "code",
   "execution_count": 34,
   "metadata": {
    "ExecuteTime": {
     "end_time": "2024-01-17T19:41:58.166411Z",
     "start_time": "2024-01-17T19:41:54.441653Z"
    }
   },
   "outputs": [
    {
     "name": "stdout",
     "output_type": "stream",
     "text": [
      "Enter the unit350\n",
      "2000\n"
     ]
    }
   ],
   "source": [
    "#5. Write a program to calculate electricity bill(accept number of unit from user)\n",
    "# unit                       Price\n",
    "#first 100 units           no charge\n",
    "#next 100 units         Rs 5 per unit\n",
    "#after 200 units        Rs 10 per unit\n",
    "#(example if input unit is 350 than total bill is Rs2000)\n",
    "\n",
    "unit = int(input('Enter the unit'))\n",
    "\n",
    "if unit<=100:\n",
    "    price_100=0\n",
    "    print('There is no charge')\n",
    "if unit>=100 and unit<=200:\n",
    "    price=(unit-100)*5\n",
    "    print(price)\n",
    "if unit>=200:\n",
    "    price=500+(unit-200)*10 \n",
    "    print(price)\n",
    "\n"
   ]
  },
  {
   "cell_type": "code",
   "execution_count": 11,
   "metadata": {
    "ExecuteTime": {
     "end_time": "2024-01-18T11:57:50.274869Z",
     "start_time": "2024-01-18T11:57:47.649315Z"
    }
   },
   "outputs": [
    {
     "name": "stdout",
     "output_type": "stream",
     "text": [
      "Enter the unit350\n",
      "2000\n"
     ]
    }
   ],
   "source": [
    "unit = int(input('Enter the unit'))\n",
    "\n",
    "if unit<=100:\n",
    "    price=0\n",
    "    print('There is no price')\n",
    "elif unit>=100 and unit<=200:\n",
    "     price=(unit-100)*5\n",
    "     print(price)        \n",
    "elif unit>=200:\n",
    "     price=500+(unit-200)*10\n",
    "     print(price)\n",
    "    "
   ]
  },
  {
   "cell_type": "code",
   "execution_count": 14,
   "metadata": {
    "ExecuteTime": {
     "end_time": "2024-01-18T13:16:10.800356Z",
     "start_time": "2024-01-18T13:16:08.108473Z"
    }
   },
   "outputs": [
    {
     "name": "stdout",
     "output_type": "stream",
     "text": [
      "Enter the num12345\n",
      "Last digit of number 5\n"
     ]
    }
   ],
   "source": [
    "#6.Program to display last digit of a number \n",
    "\n",
    "number = int(input('Enter the num'))\n",
    "print('Last digit of number',number%10)\n",
    "# if number>0:\n",
    "#     digit =number%10\n",
    "#     print(digit)"
   ]
  },
  {
   "cell_type": "code",
   "execution_count": 18,
   "metadata": {
    "ExecuteTime": {
     "end_time": "2024-01-18T13:30:57.613948Z",
     "start_time": "2024-01-18T13:19:23.648347Z"
    }
   },
   "outputs": [
    {
     "name": "stdout",
     "output_type": "stream",
     "text": [
      "Enter the num23496\n",
      "Digit is divisable by 3\n"
     ]
    }
   ],
   "source": [
    "#7.Write a program to check whether the last digit of a number is divisable by 3 or not.\n",
    "\n",
    "number = int(input('Enter the num'))\n",
    "digit = number%10\n",
    "if digit%3==0:\n",
    "    print('Digit is divisable by 3')\n",
    "else:\n",
    "    print('Digit is not divisable by 3')"
   ]
  },
  {
   "cell_type": "code",
   "execution_count": 24,
   "metadata": {
    "ExecuteTime": {
     "end_time": "2024-01-18T14:46:27.147087Z",
     "start_time": "2024-01-18T14:46:21.863045Z"
    }
   },
   "outputs": [
    {
     "name": "stdout",
     "output_type": "stream",
     "text": [
      "Enter the grade of the student60.8\n",
      "Grade is D\n"
     ]
    }
   ],
   "source": [
    "#8. Write a program to find the grade of a student when grades are allocated as given in the table below. Percentage of the marks obtained by the student is input to the program.\n",
    "# Percentage of Marks\tGrade\n",
    "# Above 90%\tA\n",
    "# 80% to 90%\tB\n",
    "# 70% to 80%\tC\n",
    "# 60% to 70%\tD\n",
    "# Below 60%\tE\n",
    "\n",
    "percentage = float(input('Enter the grade of the student'))\n",
    "\n",
    "if percentage>=90:\n",
    "    print(\"Grade is A\")\n",
    "elif percentage>=80 and percentage<=90:\n",
    "    print(\"Grade is B\")\n",
    "elif percentage>=70 and percentage<=80:\n",
    "    print(\"Grade is C\")\n",
    "elif percentage>=60 and percentage<=70:\n",
    "    print(\"Grade is D\")\n",
    "else:\n",
    "    print(\"Grade is E\")"
   ]
  },
  {
   "cell_type": "code",
   "execution_count": 29,
   "metadata": {
    "ExecuteTime": {
     "end_time": "2024-01-18T15:28:46.913114Z",
     "start_time": "2024-01-18T15:28:39.726525Z"
    }
   },
   "outputs": [
    {
     "name": "stdout",
     "output_type": "stream",
     "text": [
      "Enter the price of bike200\n",
      "10.0\n"
     ]
    }
   ],
   "source": [
    "#9. Write a program to accept the cost price of a bike and disply the road tax to be paid according to following criteria\n",
    "# cost                  price\n",
    "# >100000               15%\n",
    "# >50000 and <=100000   10%\n",
    "# <= 50000              5%\n",
    "\n",
    "cost = float(input('Enter the price of bike'))\n",
    "if cost>100000:\n",
    "    tax = cost*(15/100)\n",
    "    print(tax)\n",
    "elif cost>50000 and cost<=100000:\n",
    "    tax = cost*(10/100)\n",
    "    print(tax)\n",
    "elif cost<=50000:\n",
    "    tax = cost*(5/100)\n",
    "    print(tax)"
   ]
  },
  {
   "cell_type": "code",
   "execution_count": 42,
   "metadata": {
    "ExecuteTime": {
     "end_time": "2024-01-18T16:13:02.749466Z",
     "start_time": "2024-01-18T16:12:59.879694Z"
    }
   },
   "outputs": [
    {
     "name": "stdout",
     "output_type": "stream",
     "text": [
      "enter a year to check2000\n",
      "Its leap year\n",
      "Its centuary year also\n"
     ]
    }
   ],
   "source": [
    "#10. Write a program to check whether an year is leap year or not\n",
    "\n",
    "year = int(input('enter a year to check'))\n",
    "\n",
    "if year%4 == 0:\n",
    "    print('Its leap year')\n",
    "    if year%100 == 0:\n",
    "        if year%400==0:\n",
    "            print('Its centuary year also')\n",
    "        else:\n",
    "            print('Its not centuary year')\n",
    "else:\n",
    "    print('Its not a leap year')\n",
    "    "
   ]
  },
  {
   "cell_type": "code",
   "execution_count": 40,
   "metadata": {
    "ExecuteTime": {
     "end_time": "2024-01-18T16:12:16.448232Z",
     "start_time": "2024-01-18T16:12:16.431278Z"
    }
   },
   "outputs": [
    {
     "data": {
      "text/plain": [
       "(0, 300)"
      ]
     },
     "execution_count": 40,
     "metadata": {},
     "output_type": "execute_result"
    }
   ],
   "source": [
    "1900%4,1900%400\n"
   ]
  },
  {
   "cell_type": "code",
   "execution_count": null,
   "metadata": {},
   "outputs": [],
   "source": []
  }
 ],
 "metadata": {
  "kernelspec": {
   "display_name": "Python 3",
   "language": "python",
   "name": "python3"
  },
  "language_info": {
   "codemirror_mode": {
    "name": "ipython",
    "version": 3
   },
   "file_extension": ".py",
   "mimetype": "text/x-python",
   "name": "python",
   "nbconvert_exporter": "python",
   "pygments_lexer": "ipython3",
   "version": "3.7.6"
  }
 },
 "nbformat": 4,
 "nbformat_minor": 4
}
